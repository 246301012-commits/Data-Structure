{
  "nbformat": 4,
  "nbformat_minor": 0,
  "metadata": {
    "colab": {
      "provenance": [],
      "authorship_tag": "ABX9TyNiONdUEZJ8iJtt7fJNWelL",
      "include_colab_link": true
    },
    "kernelspec": {
      "name": "python3",
      "display_name": "Python 3"
    },
    "language_info": {
      "name": "python"
    }
  },
  "cells": [
    {
      "cell_type": "markdown",
      "metadata": {
        "id": "view-in-github",
        "colab_type": "text"
      },
      "source": [
        "<a href=\"https://colab.research.google.com/github/246301012-commits/Data-Structure/blob/main/python.ipynb\" target=\"_parent\"><img src=\"https://colab.research.google.com/assets/colab-badge.svg\" alt=\"Open In Colab\"/></a>"
      ]
    },
    {
      "cell_type": "markdown",
      "source": [
        "## Day 01"
      ],
      "metadata": {
        "id": "G8I8zXLoJ3nA"
      }
    },
    {
      "cell_type": "code",
      "source": [
        "print(\"Hello World!\")"
      ],
      "metadata": {
        "colab": {
          "base_uri": "https://localhost:8080/"
        },
        "id": "SOUOyBUM8H3V",
        "outputId": "dc861704-2b6b-4c3f-8416-14c3b1a0e6ca"
      },
      "execution_count": null,
      "outputs": [
        {
          "output_type": "stream",
          "name": "stdout",
          "text": [
            "Hello World!\n"
          ]
        }
      ]
    },
    {
      "cell_type": "code",
      "source": [
        "print(2+3)"
      ],
      "metadata": {
        "colab": {
          "base_uri": "https://localhost:8080/"
        },
        "id": "MhrOIHEE8Qsk",
        "outputId": "c140f6cc-7656-4ee0-b3f0-717480e9f947"
      },
      "execution_count": null,
      "outputs": [
        {
          "output_type": "stream",
          "name": "stdout",
          "text": [
            "5\n"
          ]
        }
      ]
    },
    {
      "cell_type": "code",
      "source": [
        "print('Hello World')"
      ],
      "metadata": {
        "colab": {
          "base_uri": "https://localhost:8080/"
        },
        "id": "yaLXb_eF8nNk",
        "outputId": "4c861f3a-bcf4-484f-9fe0-494fd121daec"
      },
      "execution_count": null,
      "outputs": [
        {
          "output_type": "stream",
          "name": "stdout",
          "text": [
            "Hello World\n"
          ]
        }
      ]
    },
    {
      "cell_type": "code",
      "source": [
        "print(\"\"\"My name is Aditya.\"\"\")"
      ],
      "metadata": {
        "colab": {
          "base_uri": "https://localhost:8080/"
        },
        "id": "UGYjcyZj8tL6",
        "outputId": "355e0551-94ad-4006-f3cc-7479b49428b9"
      },
      "execution_count": null,
      "outputs": [
        {
          "output_type": "stream",
          "name": "stdout",
          "text": [
            "My name is Aditya.\n"
          ]
        }
      ]
    },
    {
      "cell_type": "code",
      "source": [
        "a = 1\n",
        "b= 1,\n",
        "type(a)\n",
        "type(b)"
      ],
      "metadata": {
        "colab": {
          "base_uri": "https://localhost:8080/"
        },
        "id": "pCz2aeZw9FVI",
        "outputId": "9304f977-d7a5-4536-9c51-92541fe2f7b6"
      },
      "execution_count": null,
      "outputs": [
        {
          "output_type": "execute_result",
          "data": {
            "text/plain": [
              "tuple"
            ]
          },
          "metadata": {},
          "execution_count": 8
        }
      ]
    },
    {
      "cell_type": "code",
      "source": [
        "name = input(\"Enter your name: \")\n",
        "print(f'Hi! {name}')\n",
        "age = input(\"Enter your age: \")\n",
        "print(f'Welcome {name}! Your age is {age}')"
      ],
      "metadata": {
        "colab": {
          "base_uri": "https://localhost:8080/"
        },
        "id": "RIYIFCTGB-2y",
        "outputId": "05f5cd13-8942-4223-df27-b5483ea9209a"
      },
      "execution_count": null,
      "outputs": [
        {
          "output_type": "stream",
          "name": "stdout",
          "text": [
            "Enter your name: Aditya\n",
            "Hi! Aditya\n",
            "Enter your age: 18\n",
            "Welcome Aditya! Your age is 18\n"
          ]
        }
      ]
    },
    {
      "cell_type": "code",
      "source": [
        "from datetime import date\n",
        "today = date.today()\n",
        "\n",
        "name = input('Enter your name: ')\n",
        "year = int(input(\"Enter the year of the birth: \"))\n",
        "current_age = today.year - year\n",
        "print('Welcome',name,'! Nice to know you are',current_age,'years old.')"
      ],
      "metadata": {
        "colab": {
          "base_uri": "https://localhost:8080/"
        },
        "id": "YOG98VudDU9-",
        "outputId": "7e5979aa-60df-4547-cc59-01bede0379ef"
      },
      "execution_count": null,
      "outputs": [
        {
          "output_type": "stream",
          "name": "stdout",
          "text": [
            "Enter your name: Aditya\n",
            "Enter the year of the birth: 2007\n",
            "Welcome Aditya ! Nice to know you are 18 years old.\n"
          ]
        }
      ]
    },
    {
      "cell_type": "markdown",
      "source": [
        "##DAY 02"
      ],
      "metadata": {
        "id": "IOnh58YUjSXV"
      }
    },
    {
      "cell_type": "code",
      "source": [
        "a =10\n",
        "b = a\n",
        "print(id(a))\n",
        "print(id(b))"
      ],
      "metadata": {
        "colab": {
          "base_uri": "https://localhost:8080/"
        },
        "id": "Qgd9HqbPjVOG",
        "outputId": "af080214-2287-4e7a-bef9-b8fca65f418e"
      },
      "execution_count": null,
      "outputs": [
        {
          "output_type": "stream",
          "name": "stdout",
          "text": [
            "10758024\n",
            "10758024\n"
          ]
        }
      ]
    },
    {
      "cell_type": "code",
      "source": [
        "a =10\n",
        "b = 10\n",
        "print(id(a))\n",
        "print(id(b))"
      ],
      "metadata": {
        "colab": {
          "base_uri": "https://localhost:8080/"
        },
        "id": "SrkHD4tOj1hN",
        "outputId": "4dabcd8b-df54-4c69-a6fb-3d736d0c1971"
      },
      "execution_count": null,
      "outputs": [
        {
          "output_type": "stream",
          "name": "stdout",
          "text": [
            "10758024\n",
            "10758024\n"
          ]
        }
      ]
    },
    {
      "cell_type": "code",
      "source": [
        "a = 257\n",
        "b = 257\n",
        "print(id(a))\n",
        "print(id(b))"
      ],
      "metadata": {
        "colab": {
          "base_uri": "https://localhost:8080/"
        },
        "id": "zAGJjU5Uj_tz",
        "outputId": "bcec5571-170d-4c1d-d78f-316d79fed6f8"
      },
      "execution_count": null,
      "outputs": [
        {
          "output_type": "stream",
          "name": "stdout",
          "text": [
            "133872165421264\n",
            "133872165422128\n"
          ]
        }
      ]
    },
    {
      "cell_type": "code",
      "source": [
        "a =256\n",
        "b = 256\n",
        "print(id(a))\n",
        "print(id(b))"
      ],
      "metadata": {
        "colab": {
          "base_uri": "https://localhost:8080/"
        },
        "id": "ZUFWi8HJkM77",
        "outputId": "a80b40a9-7c28-4c33-fe16-341c0df9aaf0"
      },
      "execution_count": null,
      "outputs": [
        {
          "output_type": "stream",
          "name": "stdout",
          "text": [
            "10765896\n",
            "10765896\n"
          ]
        }
      ]
    },
    {
      "cell_type": "code",
      "source": [
        "a = -6\n",
        "b = -6\n",
        "print(id(a))\n",
        "print(id(b))"
      ],
      "metadata": {
        "colab": {
          "base_uri": "https://localhost:8080/"
        },
        "id": "qovmh3glk4ny",
        "outputId": "3726038e-45ab-48a5-bc06-cbfd877d5b9e"
      },
      "execution_count": null,
      "outputs": [
        {
          "output_type": "stream",
          "name": "stdout",
          "text": [
            "133872165422576\n",
            "133872165422256\n"
          ]
        }
      ]
    },
    {
      "cell_type": "code",
      "source": [
        "a = -5\n",
        "b = -5\n",
        "print(id(a))\n",
        "print(id(b))"
      ],
      "metadata": {
        "colab": {
          "base_uri": "https://localhost:8080/"
        },
        "id": "8IfKp5bjk_q5",
        "outputId": "d69e06ed-e80c-45fb-cfbf-170e4b351bfe"
      },
      "execution_count": null,
      "outputs": [
        {
          "output_type": "stream",
          "name": "stdout",
          "text": [
            "10757544\n",
            "10757544\n"
          ]
        }
      ]
    },
    {
      "cell_type": "code",
      "source": [
        "a = -7\n",
        "b = -7\n",
        "print(id(a))\n",
        "print(id(b))"
      ],
      "metadata": {
        "id": "xaKVdpOjlbdQ",
        "colab": {
          "base_uri": "https://localhost:8080/"
        },
        "outputId": "6bc8be63-ac00-44f1-bab1-533140d72709"
      },
      "execution_count": null,
      "outputs": [
        {
          "output_type": "stream",
          "name": "stdout",
          "text": [
            "132205350004752\n",
            "132205350004528\n"
          ]
        }
      ]
    },
    {
      "cell_type": "markdown",
      "source": [
        "##### -5 to 256 integer interning"
      ],
      "metadata": {
        "id": "_UOUugVSlP7R"
      }
    },
    {
      "cell_type": "markdown",
      "source": [
        "bin ---> decimal to binary<br>\n",
        "oct ---> decimal to oct<br>\n",
        "hex ---> decimal to hexadecimal"
      ],
      "metadata": {
        "id": "iA-g9EWZnVKX"
      }
    },
    {
      "cell_type": "code",
      "source": [
        "print(bin(10))"
      ],
      "metadata": {
        "colab": {
          "base_uri": "https://localhost:8080/"
        },
        "id": "AOrRStz2nJrg",
        "outputId": "cf2128d1-3b30-4b07-d3f9-dad463bf1d1f"
      },
      "execution_count": null,
      "outputs": [
        {
          "output_type": "stream",
          "name": "stdout",
          "text": [
            "0b1010\n"
          ]
        }
      ]
    },
    {
      "cell_type": "code",
      "source": [
        "c = 0b1010\n",
        "print(c)"
      ],
      "metadata": {
        "colab": {
          "base_uri": "https://localhost:8080/"
        },
        "id": "_IeBPqKOngzN",
        "outputId": "299b62c1-4892-4eaa-d2e5-b3b618b33a3a"
      },
      "execution_count": null,
      "outputs": [
        {
          "output_type": "stream",
          "name": "stdout",
          "text": [
            "10\n"
          ]
        }
      ]
    },
    {
      "cell_type": "code",
      "source": [
        "b = 15\n",
        "print(oct(b))"
      ],
      "metadata": {
        "colab": {
          "base_uri": "https://localhost:8080/"
        },
        "id": "vIDWFdI9oAFt",
        "outputId": "e5433baf-88da-41b3-8227-de72d86dfbcc"
      },
      "execution_count": null,
      "outputs": [
        {
          "output_type": "stream",
          "name": "stdout",
          "text": [
            "0o17\n"
          ]
        }
      ]
    },
    {
      "cell_type": "code",
      "source": [
        "c = 12\n",
        "print(hex(c))"
      ],
      "metadata": {
        "colab": {
          "base_uri": "https://localhost:8080/"
        },
        "id": "0obo_d6CoHX8",
        "outputId": "cacbdfee-dc72-4101-a546-ba316234775c"
      },
      "execution_count": null,
      "outputs": [
        {
          "output_type": "stream",
          "name": "stdout",
          "text": [
            "0xc\n"
          ]
        }
      ]
    },
    {
      "cell_type": "code",
      "source": [
        "a = 0xc\n",
        "print(a)"
      ],
      "metadata": {
        "colab": {
          "base_uri": "https://localhost:8080/"
        },
        "id": "Byu2VcT2oQpT",
        "outputId": "63bff9b5-b1cb-4c91-bec7-ac83523c0194"
      },
      "execution_count": null,
      "outputs": [
        {
          "output_type": "stream",
          "name": "stdout",
          "text": [
            "12\n"
          ]
        }
      ]
    },
    {
      "cell_type": "code",
      "source": [
        "x = 3\n",
        "y = x\n",
        "x = x + 1\n",
        "print(x)\n",
        "print(y)"
      ],
      "metadata": {
        "colab": {
          "base_uri": "https://localhost:8080/"
        },
        "id": "m8u3c0l4oZqN",
        "outputId": "1302b1be-0650-40bd-c56c-6a57421648b2"
      },
      "execution_count": null,
      "outputs": [
        {
          "output_type": "stream",
          "name": "stdout",
          "text": [
            "4\n",
            "3\n"
          ]
        }
      ]
    },
    {
      "cell_type": "code",
      "source": [
        "a = [1,2,3]\n",
        "b = a\n",
        "a.append(4)\n",
        "print(a)\n",
        "print(b)"
      ],
      "metadata": {
        "colab": {
          "base_uri": "https://localhost:8080/"
        },
        "id": "_RF6HexGp0nK",
        "outputId": "843d67e3-1c5c-4c36-ad83-fe20e21e666e"
      },
      "execution_count": null,
      "outputs": [
        {
          "output_type": "stream",
          "name": "stdout",
          "text": [
            "[1, 2, 3, 4]\n",
            "[1, 2, 3, 4]\n"
          ]
        }
      ]
    },
    {
      "cell_type": "markdown",
      "source": [
        "### Statement and Expression\n",
        "expression ----> output <br>\n",
        "statement -----> no output"
      ],
      "metadata": {
        "id": "fb88YlEnqp1S"
      }
    },
    {
      "cell_type": "code",
      "source": [
        "16"
      ],
      "metadata": {
        "colab": {
          "base_uri": "https://localhost:8080/"
        },
        "id": "4MB6uUJrqvS3",
        "outputId": "888bc943-72e7-4dff-9e8e-a0ea76928b22"
      },
      "execution_count": null,
      "outputs": [
        {
          "output_type": "execute_result",
          "data": {
            "text/plain": [
              "16"
            ]
          },
          "metadata": {},
          "execution_count": 21
        }
      ]
    },
    {
      "cell_type": "code",
      "source": [
        "print(True - True)\n",
        "print(True + False)\n",
        "print(True + True)\n"
      ],
      "metadata": {
        "colab": {
          "base_uri": "https://localhost:8080/"
        },
        "id": "rpiLLLZzrVbe",
        "outputId": "7cadc331-c42e-461e-bd0d-47682e88c22f"
      },
      "execution_count": null,
      "outputs": [
        {
          "output_type": "stream",
          "name": "stdout",
          "text": [
            "0\n",
            "1\n",
            "2\n"
          ]
        }
      ]
    },
    {
      "cell_type": "markdown",
      "source": [
        "###String Formatter\n"
      ],
      "metadata": {
        "id": "3DQOc5JBsi40"
      }
    },
    {
      "cell_type": "code",
      "source": [
        "x = 10\n",
        "printer = \"HP\"\n",
        "print(\"i just printed %s from the printer %s\"%(x,printer))"
      ],
      "metadata": {
        "colab": {
          "base_uri": "https://localhost:8080/"
        },
        "id": "2wQ6yNTRsnHs",
        "outputId": "396f823d-1392-42ba-c5e0-b2c333ae3466"
      },
      "execution_count": null,
      "outputs": [
        {
          "output_type": "stream",
          "name": "stdout",
          "text": [
            "i just printed 10 from the printer HP\n"
          ]
        }
      ]
    },
    {
      "cell_type": "code",
      "source": [
        "str = \"This article is written in {}\"\n",
        "print(str.format(\"Python\"))\n",
        "print(\"My name is {} and i am studying in {}\".format(\"Aditya\",\"GKV\"))"
      ],
      "metadata": {
        "colab": {
          "base_uri": "https://localhost:8080/"
        },
        "id": "KSiWQdg9tTXC",
        "outputId": "75a0e85b-a4f6-4401-8467-9016b2e3a84f"
      },
      "execution_count": null,
      "outputs": [
        {
          "output_type": "stream",
          "name": "stdout",
          "text": [
            "This article is written in Python\n",
            "My name is Aditya and i am studying in GKV\n"
          ]
        }
      ]
    },
    {
      "cell_type": "markdown",
      "source": [
        "###DAY 03\n"
      ],
      "metadata": {
        "id": "dGBJSkgJrETZ"
      }
    },
    {
      "cell_type": "markdown",
      "source": [],
      "metadata": {
        "id": "lfACIvQypMYs"
      }
    },
    {
      "cell_type": "code",
      "source": [
        "# Basic Operators\n",
        "# A card is drawn at random from a deck of well suffled  cards. Find the probability of it being neither a king nor a spade.\n",
        "spade_with_king = 13\n",
        "total_kings = 4\n",
        "spade_without_king = 12\n",
        "\n",
        "required_probability = (52-(12+4))/52\n",
        "print(required_probability)\n"
      ],
      "metadata": {
        "colab": {
          "base_uri": "https://localhost:8080/"
        },
        "id": "SwYdyDEerIjP",
        "outputId": "d5a56c0e-ca55-4dd2-8a58-70273d7f3a16"
      },
      "execution_count": null,
      "outputs": [
        {
          "output_type": "stream",
          "name": "stdout",
          "text": [
            "0.6923076923076923\n"
          ]
        }
      ]
    },
    {
      "cell_type": "code",
      "source": [
        "s = 'hello'\n",
        "# s[0] = 'a' String is immutable\n",
        "print(s)\n",
        "print(s[-2:])\n",
        "print(s[-5:-1])\n",
        "print(s[0:100])\n",
        "print(s[:-1])"
      ],
      "metadata": {
        "colab": {
          "base_uri": "https://localhost:8080/"
        },
        "id": "MoTaHhJ8tE3z",
        "outputId": "7b3e7e6a-7537-45a3-eeb4-58caa56fd153"
      },
      "execution_count": null,
      "outputs": [
        {
          "output_type": "stream",
          "name": "stdout",
          "text": [
            "hello\n",
            "lo\n",
            "hell\n",
            "hello\n",
            "hell\n"
          ]
        }
      ]
    },
    {
      "cell_type": "code",
      "source": [
        "s = 'Python Programming'\n",
        "# Q1: Extract Prog\n",
        "print(s[7:11])\n",
        "# Q2: [:]\n",
        "print(s[:])\n",
        "print(s[:-1])\n",
        "print(s[::-2])"
      ],
      "metadata": {
        "colab": {
          "base_uri": "https://localhost:8080/"
        },
        "id": "UEPwMCWIv3sW",
        "outputId": "aac05b26-0cf7-4136-d4bc-65a93a32f40d"
      },
      "execution_count": null,
      "outputs": [
        {
          "output_type": "stream",
          "name": "stdout",
          "text": [
            "Prog\n",
            "Python Programming\n",
            "Python Programmin\n",
            "gimroPnhy\n"
          ]
        }
      ]
    },
    {
      "cell_type": "code",
      "source": [
        "s= 'Python is a good programming Language'\n",
        "print(s.split())\n",
        "print(s.upper())\n",
        "print(s.title())\n",
        "print(s.lower())\n",
        "print(s.find('good'))"
      ],
      "metadata": {
        "colab": {
          "base_uri": "https://localhost:8080/"
        },
        "id": "6SctVtk3xpOa",
        "outputId": "3a10adf2-8515-4ad8-e716-631ebc4b8883"
      },
      "execution_count": null,
      "outputs": [
        {
          "output_type": "stream",
          "name": "stdout",
          "text": [
            "['Python', 'is', 'a', 'good', 'programming', 'Language']\n",
            "PYTHON IS A GOOD PROGRAMMING LANGUAGE\n",
            "Python Is A Good Programming Language\n",
            "python is a good programming language\n",
            "12\n"
          ]
        }
      ]
    },
    {
      "cell_type": "code",
      "source": [
        "s= 'Python,is,a,good,programming,Language'\n",
        "print(s.split())\n",
        "print(s.split(','))\n",
        "print(s.upper())"
      ],
      "metadata": {
        "colab": {
          "base_uri": "https://localhost:8080/"
        },
        "id": "7t2lXETYxM3r",
        "outputId": "ea5d9f91-4418-4607-88bb-ae170553035f"
      },
      "execution_count": null,
      "outputs": [
        {
          "output_type": "stream",
          "name": "stdout",
          "text": [
            "['Python,is,a,good,programming,Language']\n",
            "['Python', 'is', 'a', 'good', 'programming', 'Language']\n",
            "PYTHON,IS,A,GOOD,PROGRAMMING,LANGUAGE\n"
          ]
        }
      ]
    },
    {
      "cell_type": "code",
      "source": [
        "s= '      Python    is     a good  programming  Language                                      '\n",
        "print(s.strip())\n",
        "p = '----Aditya-----'\n",
        "print(p.strip('-'))"
      ],
      "metadata": {
        "colab": {
          "base_uri": "https://localhost:8080/"
        },
        "id": "pGL_Jo6-yXDZ",
        "outputId": "358db923-aa06-4763-9a55-8e9f0cbc2538"
      },
      "execution_count": null,
      "outputs": [
        {
          "output_type": "stream",
          "name": "stdout",
          "text": [
            "Python    is     a good  programming  Language\n",
            "Aditya\n"
          ]
        }
      ]
    },
    {
      "cell_type": "code",
      "source": [
        "from typing_extensions import Counter\n",
        "s = '''My name is Aditya\n",
        "I am learning python\n",
        "i am using google collab to write my code\n",
        "'''\n",
        "p = s.split()\n",
        "print(s.split())\n",
        "print(len(p))\n",
        "count = Counter(p)\n",
        "print(count)\n",
        "# Find the frequency of words"
      ],
      "metadata": {
        "colab": {
          "base_uri": "https://localhost:8080/"
        },
        "id": "8OGFJwD9yxB7",
        "outputId": "512a2817-d3b4-41d1-c711-506b83f61bc5"
      },
      "execution_count": null,
      "outputs": [
        {
          "output_type": "stream",
          "name": "stdout",
          "text": [
            "['My', 'name', 'is', 'Aditya', 'I', 'am', 'learning', 'python', 'i', 'am', 'using', 'google', 'collab', 'to', 'write', 'my', 'code']\n",
            "17\n",
            "Counter({'am': 2, 'My': 1, 'name': 1, 'is': 1, 'Aditya': 1, 'I': 1, 'learning': 1, 'python': 1, 'i': 1, 'using': 1, 'google': 1, 'collab': 1, 'to': 1, 'write': 1, 'my': 1, 'code': 1})\n"
          ]
        }
      ]
    },
    {
      "cell_type": "code",
      "source": [
        "name = \"Python Programming\"\n",
        "print(name[-11])"
      ],
      "metadata": {
        "colab": {
          "base_uri": "https://localhost:8080/"
        },
        "id": "k67Sa35Dxy0b",
        "outputId": "5813cc0d-7247-4bcc-e34d-011a950594bf"
      },
      "execution_count": null,
      "outputs": [
        {
          "output_type": "stream",
          "name": "stdout",
          "text": [
            "P\n"
          ]
        }
      ]
    },
    {
      "cell_type": "markdown",
      "source": [
        "DAY 04"
      ],
      "metadata": {
        "id": "AXR3A3X_0fMV"
      }
    },
    {
      "cell_type": "markdown",
      "source": [
        "What is short circuiting evaluation?"
      ],
      "metadata": {
        "id": "GEAQUFYLzN-J"
      }
    },
    {
      "cell_type": "code",
      "source": [
        "def square(a):\n",
        "  return a**2\n",
        "square(2)"
      ],
      "metadata": {
        "colab": {
          "base_uri": "https://localhost:8080/"
        },
        "id": "ekkFUgnazUq2",
        "outputId": "a67ee9b9-f515-4306-d9b0-1319956650b3"
      },
      "execution_count": null,
      "outputs": [
        {
          "output_type": "execute_result",
          "data": {
            "text/plain": [
              "4"
            ]
          },
          "metadata": {},
          "execution_count": 2
        }
      ]
    },
    {
      "cell_type": "code",
      "source": [
        "def square(a:int) -> \"the square of a number\":\n",
        "  '''computes square of input variable a'''\n",
        "  z = a**2\n",
        "  return z\n",
        "square(2.0)"
      ],
      "metadata": {
        "colab": {
          "base_uri": "https://localhost:8080/"
        },
        "id": "eqOtOm0Fzzu1",
        "outputId": "af3edc29-69af-4f5a-ecfb-ab9eb6b9dfee"
      },
      "execution_count": null,
      "outputs": [
        {
          "output_type": "execute_result",
          "data": {
            "text/plain": [
              "4.0"
            ]
          },
          "metadata": {},
          "execution_count": 3
        }
      ]
    },
    {
      "cell_type": "code",
      "source": [
        "help(square)"
      ],
      "metadata": {
        "colab": {
          "base_uri": "https://localhost:8080/"
        },
        "id": "87vtC1Au0lxN",
        "outputId": "c2a9eca2-c486-4c3d-f785-6c6ff44b110a"
      },
      "execution_count": null,
      "outputs": [
        {
          "output_type": "stream",
          "name": "stdout",
          "text": [
            "Help on function square in module __main__:\n",
            "\n",
            "square(a: int) -> 'the square of a number'\n",
            "    computes square of input variable a\n",
            "\n"
          ]
        }
      ]
    },
    {
      "cell_type": "code",
      "source": [
        "square.__doc__"
      ],
      "metadata": {
        "colab": {
          "base_uri": "https://localhost:8080/",
          "height": 36
        },
        "id": "B61r59zD0q_7",
        "outputId": "1d4f9ede-5379-4cee-8ed8-6b4f2179b5be"
      },
      "execution_count": null,
      "outputs": [
        {
          "output_type": "execute_result",
          "data": {
            "text/plain": [
              "'computes square of input variable a'"
            ],
            "application/vnd.google.colaboratory.intrinsic+json": {
              "type": "string"
            }
          },
          "metadata": {},
          "execution_count": 7
        }
      ]
    },
    {
      "cell_type": "code",
      "source": [
        "square.__annotations__"
      ],
      "metadata": {
        "colab": {
          "base_uri": "https://localhost:8080/"
        },
        "id": "SdA0gt1u01yl",
        "outputId": "42a2dfab-14a3-4ed3-9ba1-5371f176fa9a"
      },
      "execution_count": null,
      "outputs": [
        {
          "output_type": "execute_result",
          "data": {
            "text/plain": [
              "{'a': int, 'return': 'the square of a number'}"
            ]
          },
          "metadata": {},
          "execution_count": 6
        }
      ]
    },
    {
      "cell_type": "code",
      "source": [
        "def f(a):\n",
        "  print(\"f(\",a,\") =\",a)\n",
        "  return a\n"
      ],
      "metadata": {
        "id": "8IO1TBW81PNj"
      },
      "execution_count": null,
      "outputs": []
    },
    {
      "cell_type": "code",
      "source": [
        "f(0)"
      ],
      "metadata": {
        "colab": {
          "base_uri": "https://localhost:8080/"
        },
        "id": "sw8xkPy51-Xs",
        "outputId": "cefa88cd-e108-4294-f96a-313aef349a9e"
      },
      "execution_count": null,
      "outputs": [
        {
          "output_type": "stream",
          "name": "stdout",
          "text": [
            "f( 0 ) = 0\n"
          ]
        }
      ]
    },
    {
      "cell_type": "code",
      "source": [
        "f(False)"
      ],
      "metadata": {
        "colab": {
          "base_uri": "https://localhost:8080/"
        },
        "id": "YJOZkmfW2BDq",
        "outputId": "38707968-e51e-4b8b-c6fe-a3c45ed0ae2d"
      },
      "execution_count": null,
      "outputs": [
        {
          "output_type": "stream",
          "name": "stdout",
          "text": [
            "f( False ) = False\n"
          ]
        }
      ]
    },
    {
      "cell_type": "code",
      "source": [
        "f(1.5)"
      ],
      "metadata": {
        "colab": {
          "base_uri": "https://localhost:8080/"
        },
        "id": "kNWN5zpJ2Dqh",
        "outputId": "26d07888-f57f-4890-9c37-f8fc540ea3af"
      },
      "execution_count": null,
      "outputs": [
        {
          "output_type": "stream",
          "name": "stdout",
          "text": [
            "f( 1.5 ) = 1.5\n"
          ]
        }
      ]
    },
    {
      "cell_type": "code",
      "source": [
        "f(1) and f(2) and f(0) and f(4)"
      ],
      "metadata": {
        "colab": {
          "base_uri": "https://localhost:8080/"
        },
        "id": "J-Qx8sqF2p1o",
        "outputId": "dfaad1a3-8af5-4871-f0d5-cea34ded9a06"
      },
      "execution_count": null,
      "outputs": [
        {
          "output_type": "stream",
          "name": "stdout",
          "text": [
            "f( 1 ) = 1\n",
            "f( 2 ) = 2\n",
            "f( 0 ) = 0\n"
          ]
        },
        {
          "output_type": "execute_result",
          "data": {
            "text/plain": [
              "0"
            ]
          },
          "metadata": {},
          "execution_count": 18
        }
      ]
    },
    {
      "cell_type": "code",
      "source": [
        "f(0) or f(1) or f(2) or f(4)"
      ],
      "metadata": {
        "colab": {
          "base_uri": "https://localhost:8080/"
        },
        "id": "pznCH5kx3viA",
        "outputId": "2e78fc7a-32ab-4155-bbe3-68b941ece283"
      },
      "execution_count": null,
      "outputs": [
        {
          "output_type": "stream",
          "name": "stdout",
          "text": [
            "f( 0 ) = 0\n",
            "f( 1 ) = 1\n"
          ]
        },
        {
          "output_type": "execute_result",
          "data": {
            "text/plain": [
              "1"
            ]
          },
          "metadata": {},
          "execution_count": 19
        }
      ]
    },
    {
      "cell_type": "code",
      "source": [
        "print(2**3**2)  #exponential is right associative"
      ],
      "metadata": {
        "colab": {
          "base_uri": "https://localhost:8080/"
        },
        "id": "ypv9XsQB5DgV",
        "outputId": "731ee517-ebac-46da-966f-fa43715bec40"
      },
      "execution_count": null,
      "outputs": [
        {
          "output_type": "stream",
          "name": "stdout",
          "text": [
            "512\n"
          ]
        }
      ]
    },
    {
      "cell_type": "code",
      "source": [
        "print(3**1+2**2**2)"
      ],
      "metadata": {
        "colab": {
          "base_uri": "https://localhost:8080/"
        },
        "id": "YdqsTDpq5HVb",
        "outputId": "d8e54f05-d23a-459d-9e61-b2ca5c5df24f"
      },
      "execution_count": null,
      "outputs": [
        {
          "output_type": "stream",
          "name": "stdout",
          "text": [
            "19\n"
          ]
        }
      ]
    },
    {
      "cell_type": "code",
      "source": [
        "a = 10\n",
        "bin(a)\n",
        "b = 14\n",
        "bin(14)\n",
        "print(bin(a&b))"
      ],
      "metadata": {
        "colab": {
          "base_uri": "https://localhost:8080/"
        },
        "id": "3fYYJ7cZ5mWS",
        "outputId": "f9bd601f-7c02-474c-98ff-b5d31dc91a7a"
      },
      "execution_count": null,
      "outputs": [
        {
          "output_type": "stream",
          "name": "stdout",
          "text": [
            "0b1010\n"
          ]
        }
      ]
    },
    {
      "cell_type": "code",
      "source": [
        "a = 8\n",
        "b = 10\n",
        "print(bin(a&b))\n",
        "print(0b1000)"
      ],
      "metadata": {
        "colab": {
          "base_uri": "https://localhost:8080/"
        },
        "id": "jTCBaL6H576a",
        "outputId": "e7ce6e3c-5548-4c07-9436-b73dfc614aca"
      },
      "execution_count": null,
      "outputs": [
        {
          "output_type": "stream",
          "name": "stdout",
          "text": [
            "0b1000\n",
            "8\n"
          ]
        }
      ]
    },
    {
      "cell_type": "code",
      "source": [
        "a = 8\n",
        "b = 10\n",
        "print(bin(a|b))\n",
        "print(0b1010)"
      ],
      "metadata": {
        "colab": {
          "base_uri": "https://localhost:8080/"
        },
        "id": "M7u1x8mv6I7h",
        "outputId": "bd1984f2-7896-4265-ad3b-eee038f210de"
      },
      "execution_count": null,
      "outputs": [
        {
          "output_type": "stream",
          "name": "stdout",
          "text": [
            "0b1010\n",
            "10\n"
          ]
        }
      ]
    },
    {
      "cell_type": "code",
      "source": [
        "a = 10\n",
        "b =14\n",
        "print(bin(a^b))\n",
        "print(0b100)"
      ],
      "metadata": {
        "colab": {
          "base_uri": "https://localhost:8080/"
        },
        "id": "iUxEv8_h6Zw5",
        "outputId": "9f42dfa5-7a8c-4f58-bc74-b936580227ce"
      },
      "execution_count": null,
      "outputs": [
        {
          "output_type": "stream",
          "name": "stdout",
          "text": [
            "0b100\n",
            "4\n"
          ]
        }
      ]
    },
    {
      "cell_type": "code",
      "source": [
        "a = 10\n",
        "print(bin(10))\n",
        "print(~0b1010)\n",
        "# negative number is always written in 2's complement"
      ],
      "metadata": {
        "colab": {
          "base_uri": "https://localhost:8080/"
        },
        "id": "YN1Bm93S6uLh",
        "outputId": "259be5f1-56b8-4fcf-eb04-3ca3027e0e43"
      },
      "execution_count": null,
      "outputs": [
        {
          "output_type": "stream",
          "name": "stdout",
          "text": [
            "0b1010\n",
            "-11\n"
          ]
        }
      ]
    },
    {
      "cell_type": "code",
      "source": [
        "x = 200\n",
        "y = 300\n",
        "print(x==y)\n",
        "print(x is y)\n",
        "print(x is not y)"
      ],
      "metadata": {
        "colab": {
          "base_uri": "https://localhost:8080/"
        },
        "id": "BUJ_lmcG8kV9",
        "outputId": "8cdcfea6-6c1d-40ab-d3be-1bd2834e6a1a"
      },
      "execution_count": null,
      "outputs": [
        {
          "output_type": "stream",
          "name": "stdout",
          "text": [
            "False\n",
            "False\n",
            "True\n"
          ]
        }
      ]
    },
    {
      "cell_type": "code",
      "source": [
        "x = 300\n",
        "y = 300\n",
        "print(x==y) # checks value\n",
        "print(x is y) # checks location\n",
        "print(x is not y)"
      ],
      "metadata": {
        "colab": {
          "base_uri": "https://localhost:8080/"
        },
        "id": "qJjG2ZLX8Piu",
        "outputId": "f2fd1d5b-49ba-4959-c045-29c160e36e31"
      },
      "execution_count": null,
      "outputs": [
        {
          "output_type": "stream",
          "name": "stdout",
          "text": [
            "True\n",
            "False\n",
            "True\n"
          ]
        }
      ]
    },
    {
      "cell_type": "code",
      "source": [
        "x,y = 300,300 # forms a tuple with same address of\n",
        "print(x==y)\n",
        "print(x is y)\n",
        "print(x is not y)\n"
      ],
      "metadata": {
        "colab": {
          "base_uri": "https://localhost:8080/"
        },
        "id": "MbHsniUi85V2",
        "outputId": "4e00061d-d7c5-4dda-c0ef-0b9699f6a526"
      },
      "execution_count": null,
      "outputs": [
        {
          "output_type": "stream",
          "name": "stdout",
          "text": [
            "True\n",
            "True\n",
            "False\n"
          ]
        }
      ]
    },
    {
      "cell_type": "code",
      "source": [
        "x,y = 200,300\n",
        "print(x==y)\n",
        "print(x is y)\n",
        "print(x is not y)"
      ],
      "metadata": {
        "colab": {
          "base_uri": "https://localhost:8080/"
        },
        "id": "Tvwd0lD79YOE",
        "outputId": "9ddeb973-e5c9-4061-c91b-25b3e9b2ed5f"
      },
      "execution_count": null,
      "outputs": [
        {
          "output_type": "stream",
          "name": "stdout",
          "text": [
            "False\n",
            "False\n",
            "True\n"
          ]
        }
      ]
    },
    {
      "cell_type": "code",
      "source": [
        "a = 3\n",
        "b = 5\n",
        "print('A is greater') if a > b else print(\"=\") if a == b else print(\"B is greater\") if a < b"
      ],
      "metadata": {
        "colab": {
          "base_uri": "https://localhost:8080/",
          "height": 110
        },
        "id": "2yeWhSiz_VcU",
        "outputId": "aa8f219b-faea-459d-d154-ebaff54a5363"
      },
      "execution_count": null,
      "outputs": [
        {
          "output_type": "error",
          "ename": "SyntaxError",
          "evalue": "expected 'else' after 'if' expression (ipython-input-1975213288.py, line 3)",
          "traceback": [
            "\u001b[0;36m  File \u001b[0;32m\"/tmp/ipython-input-1975213288.py\"\u001b[0;36m, line \u001b[0;32m3\u001b[0m\n\u001b[0;31m    print('A is greater') if a > b else print(\"=\") if a == b else print(\"B is greater\") if a < b\u001b[0m\n\u001b[0m                                                                  ^\u001b[0m\n\u001b[0;31mSyntaxError\u001b[0m\u001b[0;31m:\u001b[0m expected 'else' after 'if' expression\n"
          ]
        }
      ]
    },
    {
      "cell_type": "markdown",
      "source": [
        "##Day 05"
      ],
      "metadata": {
        "id": "C9jSlNeX7QeQ"
      }
    },
    {
      "cell_type": "code",
      "source": [
        "test_board = [\"0\",\"1\",\"2\",\"3\",\"4\",\"5\",\"6\",\"7\",\"8\",\"9\"]\n",
        "\n",
        "def display_board(board):\n",
        "  print(board[7],\"|\" ,board[8], \"|\", board[9])\n",
        "  print(\"- - - -\")\n",
        "  print(board[4],\"|\" ,board[5], \"|\", board[6])\n",
        "  print(\"- - - -\")\n",
        "  print(board[1],\"|\" ,board[2], \"|\", board[3])\n",
        "\n",
        "display_board(test_board)\n",
        "\n",
        "position = input(\"Enter a position (1-9): \")\n",
        "test_board[int(position)] = 'X'\n",
        "position = input(\"Enter a position (1-9): \")\n",
        "test_board[int(position)] = '0'\n",
        "\n",
        "display_board(test_board)"
      ],
      "metadata": {
        "colab": {
          "base_uri": "https://localhost:8080/"
        },
        "id": "Du-MFOyd7T43",
        "outputId": "7d9ba0d1-f794-4939-bd26-ebfdeb4e9ca4"
      },
      "execution_count": null,
      "outputs": [
        {
          "output_type": "stream",
          "name": "stdout",
          "text": [
            "7 | 8 | 9\n",
            "- - - -\n",
            "4 | 5 | 6\n",
            "- - - -\n",
            "1 | 2 | 3\n",
            "Enter a position (1-9): 2\n",
            "Enter a position (1-9): 1\n",
            "7 | 8 | 9\n",
            "- - - -\n",
            "4 | 5 | 6\n",
            "- - - -\n",
            "0 | X | 3\n"
          ]
        }
      ]
    },
    {
      "cell_type": "code",
      "source": [
        "log_entry = \"[2025-07-28 15:30:05] User 'admin' logged in successfully.\"\n",
        "\n",
        "# Extract timestamp\n",
        "timestamp = log_entry.split(']')[0] + ']'\n",
        "\n",
        "# Extract message\n",
        "message = log_entry.split(']')[1].strip()\n",
        "\n",
        "print(\"Timestamp:\", timestamp)\n",
        "print(\"Message:\", message)\n"
      ],
      "metadata": {
        "colab": {
          "base_uri": "https://localhost:8080/"
        },
        "id": "ZZZDqfnqDbkB",
        "outputId": "02cc36e4-278e-49ff-89c4-28f5979b3d7a"
      },
      "execution_count": null,
      "outputs": [
        {
          "output_type": "stream",
          "name": "stdout",
          "text": [
            "Timestamp: [2025-07-28 15:30:05]\n",
            "Message: User 'admin' logged in successfully.\n"
          ]
        }
      ]
    },
    {
      "cell_type": "code",
      "source": [
        "apple = [\"1\",\"2\",\"3\",\"4\",\"5\"]\n",
        "print(apple)\n",
        "# apple[0:3]=[\"2\",\"3\"]\n",
        "# print(apple)\n",
        "apple[0:3]=[\"5\",\"2\",\"3\",\"10\"]\n",
        "print(apple)"
      ],
      "metadata": {
        "colab": {
          "base_uri": "https://localhost:8080/"
        },
        "id": "9jilbqOvHVej",
        "outputId": "f8bf530f-7ff8-48e2-cbca-0a85ee40479c"
      },
      "execution_count": null,
      "outputs": [
        {
          "output_type": "stream",
          "name": "stdout",
          "text": [
            "['1', '2', '3', '4', '5']\n",
            "['5', '2', '3', '10', '4', '5']\n"
          ]
        }
      ]
    },
    {
      "cell_type": "code",
      "source": [
        "apple = [\"1\",\"2\",\"3\",\"4\",\"5\"]\n",
        "print(apple)\n",
        "apple.append('8')\n",
        "print(apple)\n",
        "apple.extend([23,23,45,67,56,45])\n",
        "print(apple)\n",
        "apple.insert(2,\"spoon\")\n",
        "print(apple)\n",
        "apple.pop(1)\n",
        "print(apple)\n",
        "apple.remove(\"1\")\n",
        "print(apple)"
      ],
      "metadata": {
        "colab": {
          "base_uri": "https://localhost:8080/"
        },
        "id": "7bnGNqExHVdd",
        "outputId": "5e55869a-94e7-4196-ffd1-c7a6703abd44"
      },
      "execution_count": null,
      "outputs": [
        {
          "output_type": "stream",
          "name": "stdout",
          "text": [
            "['1', '2', '3', '4', '5']\n",
            "['1', '2', '3', '4', '5', '8']\n",
            "['1', '2', '3', '4', '5', '8', 23, 23, 45, 67, 56, 45]\n",
            "['1', '2', 'spoon', '3', '4', '5', '8', 23, 23, 45, 67, 56, 45]\n",
            "['1', 'spoon', '3', '4', '5', '8', 23, 23, 45, 67, 56, 45]\n",
            "['spoon', '3', '4', '5', '8', 23, 23, 45, 67, 56, 45]\n"
          ]
        }
      ]
    },
    {
      "cell_type": "code",
      "source": [
        "list = [1,23,4,5,-567,0,-13,-34,78]\n",
        "for i in list:\n",
        "  if i>0:\n",
        "    print(i)\n",
        "  else:\n",
        "    break\n"
      ],
      "metadata": {
        "colab": {
          "base_uri": "https://localhost:8080/"
        },
        "id": "ZyMyO1e5JiV0",
        "outputId": "4a110e5e-5930-48ee-8d08-c57940074031"
      },
      "execution_count": null,
      "outputs": [
        {
          "output_type": "stream",
          "name": "stdout",
          "text": [
            "1\n",
            "23\n",
            "4\n",
            "5\n"
          ]
        }
      ]
    },
    {
      "cell_type": "code",
      "source": [
        "i = 1\n",
        "while i<6:\n",
        "  print(i)\n",
        "  i += 1\n",
        "else:\n",
        "  print(\"i is no longer less than 6\")"
      ],
      "metadata": {
        "colab": {
          "base_uri": "https://localhost:8080/"
        },
        "id": "DBUZaNi0Kupb",
        "outputId": "2c06168a-8969-43e7-b00a-b7544fd0fb38"
      },
      "execution_count": null,
      "outputs": [
        {
          "output_type": "stream",
          "name": "stdout",
          "text": [
            "1\n",
            "2\n",
            "3\n",
            "4\n",
            "5\n",
            "i is no longer less than 6\n"
          ]
        }
      ]
    },
    {
      "cell_type": "code",
      "source": [
        "a = \"hello\"\n",
        "print(reversed(a))\n",
        "# b = <reversed object at 0x7c0e8d4b59f0>\n",
        "# print(b)"
      ],
      "metadata": {
        "colab": {
          "base_uri": "https://localhost:8080/"
        },
        "id": "yux2hZqRNj2J",
        "outputId": "43b77c78-4d63-4f98-fb9a-9e09e9c9a868"
      },
      "execution_count": null,
      "outputs": [
        {
          "output_type": "stream",
          "name": "stdout",
          "text": [
            "<reversed object at 0x7a10b62ea0e0>\n"
          ]
        }
      ]
    },
    {
      "cell_type": "code",
      "source": [
        "continents = [\"Africa\", \"Asia\", \"Antarctica\", \"Australia\", \"Europe\", \"North America\", \"South America\"]\n",
        "\n",
        "length = 0\n",
        "for i in continents:\n",
        "  if len(i)> length:\n",
        "    length = len(i)\n",
        "    longest_continent = i\n",
        "print(longest_continent)\n",
        "\n",
        "for j in continents:\n",
        "  if len(j)== length:\n",
        "    secondcontinent = j\n",
        "print(secondcontinent)"
      ],
      "metadata": {
        "colab": {
          "base_uri": "https://localhost:8080/"
        },
        "id": "pU0Vq4quScR0",
        "outputId": "b52c6cd9-b69a-4059-b6c7-d09510801245"
      },
      "execution_count": null,
      "outputs": [
        {
          "output_type": "stream",
          "name": "stdout",
          "text": [
            "North America\n",
            "South America\n"
          ]
        }
      ]
    },
    {
      "cell_type": "markdown",
      "source": [
        "##Day 06\n"
      ],
      "metadata": {
        "id": "s_I79ClWAu0g"
      }
    },
    {
      "cell_type": "code",
      "source": [
        "N = int(input())\n",
        "row = 1\n",
        "\n",
        "while row <= N:\n",
        "  col = 1\n",
        "  temp = row\n",
        "  while col<=row:\n",
        "    print(temp, end = \" \")\n",
        "    col += 1\n",
        "    temp += 1\n",
        "  row += 1\n",
        "  print()"
      ],
      "metadata": {
        "colab": {
          "base_uri": "https://localhost:8080/"
        },
        "id": "-o8TEqERA0RH",
        "outputId": "73a33e8b-2e75-4522-d4f5-cf6e053c7f9f"
      },
      "execution_count": null,
      "outputs": [
        {
          "output_type": "stream",
          "name": "stdout",
          "text": [
            "5\n",
            "1 \n",
            "2 3 \n",
            "3 4 5 \n",
            "4 5 6 7 \n",
            "5 6 7 8 9 \n"
          ]
        }
      ]
    },
    {
      "cell_type": "code",
      "source": [
        "N = int(input())\n",
        "row = 1\n",
        "\n",
        "while row <= N:\n",
        "  col = 1\n",
        "  while col<=N:\n",
        "    print(chr(64 + row), end = \" \")\n",
        "    col += 1\n",
        "  row += 1\n",
        "  print()"
      ],
      "metadata": {
        "colab": {
          "base_uri": "https://localhost:8080/"
        },
        "id": "xqQsb2YcCNLd",
        "outputId": "6a4aa0c2-eaf3-4017-ecaf-e7144d4575ab"
      },
      "execution_count": null,
      "outputs": [
        {
          "output_type": "stream",
          "name": "stdout",
          "text": [
            "4\n",
            "A A A A \n",
            "B B B B \n",
            "C C C C \n",
            "D D D D \n"
          ]
        }
      ]
    },
    {
      "cell_type": "markdown",
      "source": [
        "char to ASCII ---> odr() <br>\n",
        "ASCII to Char ----> chr()"
      ],
      "metadata": {
        "id": "yW3Ri2JBDBra"
      }
    },
    {
      "cell_type": "code",
      "source": [
        "N = int(input())\n",
        "row = 1\n",
        "\n",
        "while row <= N:\n",
        "  col = 1\n",
        "  while col<=N:\n",
        "    print(chr(64 + col), end = \" \")\n",
        "    col += 1\n",
        "  row += 1\n",
        "  print()"
      ],
      "metadata": {
        "colab": {
          "base_uri": "https://localhost:8080/"
        },
        "id": "5tm4DS8EDXHC",
        "outputId": "27d4365b-e5da-4969-f750-9c92605fa89c"
      },
      "execution_count": null,
      "outputs": [
        {
          "output_type": "stream",
          "name": "stdout",
          "text": [
            "5\n",
            "A B C D E \n",
            "A B C D E \n",
            "A B C D E \n",
            "A B C D E \n",
            "A B C D E \n"
          ]
        }
      ]
    },
    {
      "cell_type": "code",
      "source": [
        "N = int(input())\n",
        "row = 1\n",
        "\n",
        "while row <= N:\n",
        "  col = 1\n",
        "  while col<=N:\n",
        "    print(chr(64 + row + col -1), end = \" \")\n",
        "    col += 1\n",
        "  row += 1\n",
        "  print()"
      ],
      "metadata": {
        "colab": {
          "base_uri": "https://localhost:8080/"
        },
        "id": "krEwrd7uDz4A",
        "outputId": "9bd7ccc6-754c-4b52-fb82-d05f4ee06770"
      },
      "execution_count": null,
      "outputs": [
        {
          "output_type": "stream",
          "name": "stdout",
          "text": [
            "4\n",
            "A B C D \n",
            "B C D E \n",
            "C D E F \n",
            "D E F G \n"
          ]
        }
      ]
    },
    {
      "cell_type": "code",
      "source": [
        "N = int(input())\n",
        "row = 1\n",
        "\n",
        "while row <= N:\n",
        "  col = 1\n",
        "  while col<=N:\n",
        "    print(chr(64 + col), end = \" \")\n",
        "    col += 1\n",
        "  row += 1\n",
        "  print()"
      ],
      "metadata": {
        "colab": {
          "base_uri": "https://localhost:8080/"
        },
        "id": "pv5AgBZeErOW",
        "outputId": "a6cf16eb-d75d-45bf-bafe-77418044d17f"
      },
      "execution_count": null,
      "outputs": [
        {
          "output_type": "stream",
          "name": "stdout",
          "text": [
            "4\n",
            "A \n",
            "A B \n",
            "A B C \n",
            "A B C D \n"
          ]
        }
      ]
    },
    {
      "cell_type": "code",
      "source": [
        "N = int(input())\n",
        "row = 1\n",
        "\n",
        "while row <= N:\n",
        "  col = 1\n",
        "  while col<=N:\n",
        "    print(chr(64 + col), end = \" \")\n",
        "    col += 1\n",
        "  row += 1\n",
        "  print()"
      ],
      "metadata": {
        "colab": {
          "base_uri": "https://localhost:8080/"
        },
        "id": "oGvutXSGGG7L",
        "outputId": "2d14bc29-46c3-4dc9-eb07-098446a0513c"
      },
      "execution_count": null,
      "outputs": [
        {
          "output_type": "stream",
          "name": "stdout",
          "text": [
            "4\n",
            "A B C D \n",
            "A B C D \n",
            "A B C D \n",
            "A B C D \n"
          ]
        }
      ]
    },
    {
      "cell_type": "code",
      "source": [
        "# meteostat\n",
        "# NOCC"
      ],
      "metadata": {
        "id": "hxZm-c84HFrh"
      },
      "execution_count": null,
      "outputs": []
    },
    {
      "cell_type": "code",
      "source": [
        "# N = int(input())\n",
        "def draw_pattern(N):\n",
        "    for i in range(N):\n",
        "        for j in range(1, N - i + 1):\n",
        "            print(j, end='')\n",
        "\n",
        "        print('*' * (2 * i), end='')\n",
        "\n",
        "        for j in range(N - i, 0, -1):\n",
        "            print(j, end='')\n",
        "        print()\n",
        "\n",
        "draw_pattern(4)\n"
      ],
      "metadata": {
        "colab": {
          "base_uri": "https://localhost:8080/"
        },
        "id": "sd7HFC8AGfCK",
        "outputId": "feb25395-4038-49db-e51e-3bb99ab163ed"
      },
      "execution_count": null,
      "outputs": [
        {
          "output_type": "stream",
          "name": "stdout",
          "text": [
            "12344321\n",
            "123**321\n",
            "12****21\n",
            "1******1\n"
          ]
        }
      ]
    },
    {
      "cell_type": "code",
      "source": [
        "N = int(input())\n",
        "for i in range(N):\n",
        "  for j in range(1, N - i + 1):\n",
        "    print(j, end = \"\")\n",
        "\n",
        "  print('*' * (2 * i), end = \"\")\n",
        "\n",
        "  for j in range(N - i, 0, -1):\n",
        "    print(j, end = \"\")\n",
        "  print()"
      ],
      "metadata": {
        "colab": {
          "base_uri": "https://localhost:8080/"
        },
        "id": "fqffd7mrJ1fz",
        "outputId": "e2a5d769-872e-4546-ac46-837e1bf288a8"
      },
      "execution_count": null,
      "outputs": [
        {
          "output_type": "stream",
          "name": "stdout",
          "text": [
            "5\n",
            "1234554321\n",
            "1234**4321\n",
            "123****321\n",
            "12******21\n",
            "1********1\n"
          ]
        }
      ]
    },
    {
      "cell_type": "code",
      "source": [
        "N = int(input())\n",
        "for i in range(N):\n",
        "  for j in range(1, N - i + 1):\n",
        "    print(j, end = \"\")\n",
        "\n",
        "  print()"
      ],
      "metadata": {
        "colab": {
          "base_uri": "https://localhost:8080/"
        },
        "id": "zp2E4_C6LAc5",
        "outputId": "228d4440-0dbd-4341-f68f-2bc68da6c6b5"
      },
      "execution_count": null,
      "outputs": [
        {
          "output_type": "stream",
          "name": "stdout",
          "text": [
            "4\n",
            "1234\n",
            "123\n",
            "12\n",
            "1\n"
          ]
        }
      ]
    },
    {
      "cell_type": "code",
      "source": [
        "N = int(input())\n",
        "\n",
        "for i in range(N):\n",
        "  for j in range(N - i, 0, -1):\n",
        "    print(j,end=\"\")\n",
        "  print()\n",
        "  print(end=\" \")\n",
        "\n",
        "\n"
      ],
      "metadata": {
        "colab": {
          "base_uri": "https://localhost:8080/"
        },
        "id": "ioN-MLHxLu3v",
        "outputId": "fac7b80a-d3df-4171-ae57-a49e9abbaa81"
      },
      "execution_count": null,
      "outputs": [
        {
          "output_type": "stream",
          "name": "stdout",
          "text": [
            "4\n",
            "4321\n",
            " 321\n",
            " 21\n",
            " 1\n",
            " "
          ]
        }
      ]
    },
    {
      "cell_type": "code",
      "source": [
        "* x, _,*y=(1,2,3)\n",
        "print(x,y)"
      ],
      "metadata": {
        "colab": {
          "base_uri": "https://localhost:8080/"
        },
        "id": "2Hmr7gYwMo_E",
        "outputId": "4c4e591c-c626-4374-9ff7-07152cd5d9d7"
      },
      "execution_count": null,
      "outputs": [
        {
          "output_type": "stream",
          "name": "stdout",
          "text": [
            "[1] 3\n"
          ]
        }
      ]
    },
    {
      "cell_type": "code",
      "source": [
        "x,_,y = [1,2,3]\n",
        "print(x,y)\n",
        "print(_)"
      ],
      "metadata": {
        "colab": {
          "base_uri": "https://localhost:8080/"
        },
        "id": "NrOAyCavM59M",
        "outputId": "02172385-6b55-42d5-f739-e738a628e6f7"
      },
      "execution_count": null,
      "outputs": [
        {
          "output_type": "stream",
          "name": "stdout",
          "text": [
            "1 3\n",
            "2\n"
          ]
        }
      ]
    },
    {
      "cell_type": "code",
      "source": [
        "x,*_,y = [1,2,3,4,5]\n",
        "print(x,y)\n",
        "print(_)"
      ],
      "metadata": {
        "colab": {
          "base_uri": "https://localhost:8080/"
        },
        "id": "kclaIRQKNC0r",
        "outputId": "3c128c04-3978-4980-cc53-df6c67bef8e3"
      },
      "execution_count": null,
      "outputs": [
        {
          "output_type": "stream",
          "name": "stdout",
          "text": [
            "1 5\n",
            "[2, 3, 4]\n"
          ]
        }
      ]
    },
    {
      "cell_type": "markdown",
      "source": [
        "##DAY 07"
      ],
      "metadata": {
        "id": "Ex7G3BJCCsJW"
      }
    },
    {
      "cell_type": "code",
      "source": [
        "def square(num1):\n",
        "  squ = num1**2\n",
        "  return squ\n",
        "\n",
        "a = square(2)\n",
        "print(a)"
      ],
      "metadata": {
        "id": "8yFS400UNOT7",
        "colab": {
          "base_uri": "https://localhost:8080/"
        },
        "outputId": "f5277108-9c10-42ed-9ffe-ba2518607744"
      },
      "execution_count": null,
      "outputs": [
        {
          "output_type": "stream",
          "name": "stdout",
          "text": [
            "None\n"
          ]
        }
      ]
    },
    {
      "cell_type": "code",
      "source": [],
      "metadata": {
        "id": "-wUwtZZ4Fd8d"
      },
      "execution_count": null,
      "outputs": []
    },
    {
      "cell_type": "markdown",
      "source": [
        "Functional Arguments:<br>\n",
        "Required Arguments/ Positional Arguments<br>\n",
        "Keyword Arguments <br>\n",
        "Default Arguments<br>\n",
        "Positional Only Arguments(created using symbol /)<br>\n",
        "Keyword Only Arguments<br>\n",
        "Variable Length Arguments"
      ],
      "metadata": {
        "id": "f-CP_nJtES0G"
      }
    },
    {
      "cell_type": "code",
      "source": [
        "# Functions arguments"
      ],
      "metadata": {
        "id": "SAfGdnQXDOlo"
      },
      "execution_count": null,
      "outputs": []
    },
    {
      "cell_type": "code",
      "source": [
        "def f(x,y,z, count =1, upper=2):\n",
        "  return f\n",
        "\n",
        "a = f(5,6,7)\n",
        "print(a)"
      ],
      "metadata": {
        "colab": {
          "base_uri": "https://localhost:8080/"
        },
        "id": "ObP3xowLFfBs",
        "outputId": "94c9049f-5d63-45b7-82db-322733f10000"
      },
      "execution_count": null,
      "outputs": [
        {
          "output_type": "stream",
          "name": "stdout",
          "text": [
            "<function f at 0x7b45d58c0a40>\n"
          ]
        }
      ]
    },
    {
      "cell_type": "code",
      "source": [
        "def func(a,b,/,c,d=40):\n",
        "  print(f\"a:{a},b:{b},c:{c},d:{d}\")\n",
        "\n",
        "func(10,20,30)"
      ],
      "metadata": {
        "colab": {
          "base_uri": "https://localhost:8080/"
        },
        "id": "TVqa_fK-F7Ds",
        "outputId": "56cb62d8-b7a8-499b-fd10-042393ba654e"
      },
      "execution_count": null,
      "outputs": [
        {
          "output_type": "stream",
          "name": "stdout",
          "text": [
            "a:10,b:20,c:30,d:40\n"
          ]
        }
      ]
    },
    {
      "cell_type": "code",
      "source": [
        "def func(a,b,/,c,d=40):\n",
        "  print(f\"a:{a},b:{b},c:{c},d:{d}\")\n",
        "\n",
        "func(10,20,c=30)"
      ],
      "metadata": {
        "colab": {
          "base_uri": "https://localhost:8080/"
        },
        "id": "vlcRNcN5G0AS",
        "outputId": "7aa85199-0ca9-4773-8d30-fe3481b55316"
      },
      "execution_count": null,
      "outputs": [
        {
          "output_type": "stream",
          "name": "stdout",
          "text": [
            "a:10,b:20,c:30,d:40\n"
          ]
        }
      ]
    },
    {
      "cell_type": "code",
      "source": [
        "def func(a,b,/,c,d=40):\n",
        "  print(f\"a:{a},b:{b},c:{c},d:{d}\")\n",
        "\n",
        "func(a=10,b=20,c=30)\n",
        "help(func)"
      ],
      "metadata": {
        "colab": {
          "base_uri": "https://localhost:8080/",
          "height": 193
        },
        "id": "-BkWIfGDG5OC",
        "outputId": "47609e82-7fd6-40cc-b9cc-49197c0a2a13"
      },
      "execution_count": null,
      "outputs": [
        {
          "output_type": "error",
          "ename": "TypeError",
          "evalue": "func() got some positional-only arguments passed as keyword arguments: 'a, b'",
          "traceback": [
            "\u001b[0;31m---------------------------------------------------------------------------\u001b[0m",
            "\u001b[0;31mTypeError\u001b[0m                                 Traceback (most recent call last)",
            "\u001b[0;32m/tmp/ipython-input-1528112063.py\u001b[0m in \u001b[0;36m<cell line: 0>\u001b[0;34m()\u001b[0m\n\u001b[1;32m      2\u001b[0m   \u001b[0mprint\u001b[0m\u001b[0;34m(\u001b[0m\u001b[0;34mf\"a:{a},b:{b},c:{c},d:{d}\"\u001b[0m\u001b[0;34m)\u001b[0m\u001b[0;34m\u001b[0m\u001b[0;34m\u001b[0m\u001b[0m\n\u001b[1;32m      3\u001b[0m \u001b[0;34m\u001b[0m\u001b[0m\n\u001b[0;32m----> 4\u001b[0;31m \u001b[0mfunc\u001b[0m\u001b[0;34m(\u001b[0m\u001b[0ma\u001b[0m\u001b[0;34m=\u001b[0m\u001b[0;36m10\u001b[0m\u001b[0;34m,\u001b[0m\u001b[0mb\u001b[0m\u001b[0;34m=\u001b[0m\u001b[0;36m20\u001b[0m\u001b[0;34m,\u001b[0m\u001b[0mc\u001b[0m\u001b[0;34m=\u001b[0m\u001b[0;36m30\u001b[0m\u001b[0;34m)\u001b[0m\u001b[0;34m\u001b[0m\u001b[0;34m\u001b[0m\u001b[0m\n\u001b[0m\u001b[1;32m      5\u001b[0m \u001b[0mhelp\u001b[0m\u001b[0;34m(\u001b[0m\u001b[0mfunc\u001b[0m\u001b[0;34m)\u001b[0m\u001b[0;34m\u001b[0m\u001b[0;34m\u001b[0m\u001b[0m\n",
            "\u001b[0;31mTypeError\u001b[0m: func() got some positional-only arguments passed as keyword arguments: 'a, b'"
          ]
        }
      ]
    },
    {
      "cell_type": "code",
      "source": [
        "def func(a,b,*,c,d=40):\n",
        "  print(f\"a:{a},b:{b},c:{c},d:{d}\")\n",
        "# func(10,20,30)\n",
        "func(10,20,c=30)"
      ],
      "metadata": {
        "colab": {
          "base_uri": "https://localhost:8080/"
        },
        "id": "L904iAVWJ-11",
        "outputId": "37009ba5-af8c-459a-aff0-c30593ebb6a4"
      },
      "execution_count": null,
      "outputs": [
        {
          "output_type": "stream",
          "name": "stdout",
          "text": [
            "a:10,b:20,c:30,d:40\n"
          ]
        }
      ]
    },
    {
      "cell_type": "code",
      "source": [
        "def func(a,b,/,*,c,d=40):\n",
        "  print(f\"a:{a},b:{b},c:{c},d:{d}\")\n",
        "# func(10,20,30)\n",
        "func(10,20,c=30)\n",
        "# func(a=10,b=20,c=30)"
      ],
      "metadata": {
        "colab": {
          "base_uri": "https://localhost:8080/",
          "height": 193
        },
        "id": "QTfzgiaoKwie",
        "outputId": "b7bf6100-c2ca-4b0b-f9fb-44fdd1ecfb30"
      },
      "execution_count": null,
      "outputs": [
        {
          "output_type": "stream",
          "name": "stdout",
          "text": [
            "a:10,b:20,c:30,d:40\n"
          ]
        },
        {
          "output_type": "error",
          "ename": "TypeError",
          "evalue": "func() got some positional-only arguments passed as keyword arguments: 'a, b'",
          "traceback": [
            "\u001b[0;31m---------------------------------------------------------------------------\u001b[0m",
            "\u001b[0;31mTypeError\u001b[0m                                 Traceback (most recent call last)",
            "\u001b[0;32m/tmp/ipython-input-2629549752.py\u001b[0m in \u001b[0;36m<cell line: 0>\u001b[0;34m()\u001b[0m\n\u001b[1;32m      3\u001b[0m \u001b[0;31m# func(10,20,30)\u001b[0m\u001b[0;34m\u001b[0m\u001b[0;34m\u001b[0m\u001b[0m\n\u001b[1;32m      4\u001b[0m \u001b[0mfunc\u001b[0m\u001b[0;34m(\u001b[0m\u001b[0;36m10\u001b[0m\u001b[0;34m,\u001b[0m\u001b[0;36m20\u001b[0m\u001b[0;34m,\u001b[0m\u001b[0mc\u001b[0m\u001b[0;34m=\u001b[0m\u001b[0;36m30\u001b[0m\u001b[0;34m)\u001b[0m\u001b[0;34m\u001b[0m\u001b[0;34m\u001b[0m\u001b[0m\n\u001b[0;32m----> 5\u001b[0;31m \u001b[0mfunc\u001b[0m\u001b[0;34m(\u001b[0m\u001b[0ma\u001b[0m\u001b[0;34m=\u001b[0m\u001b[0;36m10\u001b[0m\u001b[0;34m,\u001b[0m\u001b[0mb\u001b[0m\u001b[0;34m=\u001b[0m\u001b[0;36m20\u001b[0m\u001b[0;34m,\u001b[0m\u001b[0mc\u001b[0m\u001b[0;34m=\u001b[0m\u001b[0;36m30\u001b[0m\u001b[0;34m)\u001b[0m\u001b[0;34m\u001b[0m\u001b[0;34m\u001b[0m\u001b[0m\n\u001b[0m",
            "\u001b[0;31mTypeError\u001b[0m: func() got some positional-only arguments passed as keyword arguments: 'a, b'"
          ]
        }
      ]
    },
    {
      "cell_type": "markdown",
      "source": [
        "Use of Asterick"
      ],
      "metadata": {
        "id": "xtaJzxsYObZf"
      }
    },
    {
      "cell_type": "markdown",
      "source": [
        "Keyworded variable length arguments"
      ],
      "metadata": {
        "id": "aKBQshr1O0ys"
      }
    },
    {
      "cell_type": "code",
      "source": [
        "def my_func(**kwargs):\n",
        "  print(kwargs)\n",
        "\n",
        "my_func(a=10,b=20,c=30)\n",
        "my_func(1)"
      ],
      "metadata": {
        "colab": {
          "base_uri": "https://localhost:8080/",
          "height": 193
        },
        "id": "MmIlo4aCLrWM",
        "outputId": "ce9cba4b-2a89-4799-be89-5226e1c7d0a4"
      },
      "execution_count": null,
      "outputs": [
        {
          "output_type": "stream",
          "name": "stdout",
          "text": [
            "{'a': 10, 'b': 20, 'c': 30}\n"
          ]
        },
        {
          "output_type": "error",
          "ename": "TypeError",
          "evalue": "my_func() takes 0 positional arguments but 1 was given",
          "traceback": [
            "\u001b[0;31m---------------------------------------------------------------------------\u001b[0m",
            "\u001b[0;31mTypeError\u001b[0m                                 Traceback (most recent call last)",
            "\u001b[0;32m/tmp/ipython-input-569553009.py\u001b[0m in \u001b[0;36m<cell line: 0>\u001b[0;34m()\u001b[0m\n\u001b[1;32m      3\u001b[0m \u001b[0;34m\u001b[0m\u001b[0m\n\u001b[1;32m      4\u001b[0m \u001b[0mmy_func\u001b[0m\u001b[0;34m(\u001b[0m\u001b[0ma\u001b[0m\u001b[0;34m=\u001b[0m\u001b[0;36m10\u001b[0m\u001b[0;34m,\u001b[0m\u001b[0mb\u001b[0m\u001b[0;34m=\u001b[0m\u001b[0;36m20\u001b[0m\u001b[0;34m,\u001b[0m\u001b[0mc\u001b[0m\u001b[0;34m=\u001b[0m\u001b[0;36m30\u001b[0m\u001b[0;34m)\u001b[0m\u001b[0;34m\u001b[0m\u001b[0;34m\u001b[0m\u001b[0m\n\u001b[0;32m----> 5\u001b[0;31m \u001b[0mmy_func\u001b[0m\u001b[0;34m(\u001b[0m\u001b[0;36m1\u001b[0m\u001b[0;34m)\u001b[0m\u001b[0;34m\u001b[0m\u001b[0;34m\u001b[0m\u001b[0m\n\u001b[0m",
            "\u001b[0;31mTypeError\u001b[0m: my_func() takes 0 positional arguments but 1 was given"
          ]
        }
      ]
    },
    {
      "cell_type": "code",
      "source": [
        "def my_func(*args,**kwargs):\n",
        "  print(args)\n",
        "  print(kwargs)\n",
        "\n",
        "my_func(10,20,30)\n",
        "my_func(1,2,3,a=10,b=20)"
      ],
      "metadata": {
        "colab": {
          "base_uri": "https://localhost:8080/"
        },
        "id": "NFHiT33OQNaV",
        "outputId": "fb835529-0164-4f0a-86fc-e58635747924"
      },
      "execution_count": null,
      "outputs": [
        {
          "output_type": "stream",
          "name": "stdout",
          "text": [
            "(10, 20, 30)\n",
            "{}\n",
            "(1, 2, 3)\n",
            "{'a': 10, 'b': 20}\n"
          ]
        }
      ]
    },
    {
      "cell_type": "markdown",
      "source": [
        "\n",
        "*   Asterik in calling function is denaoted as unpaacking\n",
        "\n",
        "*   Positional variable length arguments --> uses Tuple syntax *\n",
        "\n",
        "*   Keword variable length arguments --> uses dict syntax **\n",
        "*   postional -->\n",
        "\n",
        "\n",
        "\n"
      ],
      "metadata": {
        "id": "RtiUN8p6-qa1"
      }
    },
    {
      "cell_type": "code",
      "source": [
        "def vowels(text)->str:\n",
        "  vowels_list = \"aeiouAEIOU\"\n",
        "  retained_vowels = []\n",
        "  vowel = 0\n",
        "  for char in text:\n",
        "    if char in vowels_list:\n",
        "      # if char not in retained_vowels:\n",
        "        vowel += 1\n",
        "        retained_vowels.append(char)\n",
        "\n",
        "  return retained_vowels ,vowel\n",
        "\n",
        "a,b=vowels(\"Hello\")\n",
        "print(a)\n",
        "print(b)\n",
        "# print(vowels(\"Hello\"))\n",
        "# print(vowel)\n",
        "\n"
      ],
      "metadata": {
        "colab": {
          "base_uri": "https://localhost:8080/"
        },
        "id": "LysP5EzZ_XwT",
        "outputId": "d3a7f557-6f3e-46b9-be2a-12548c61f21e"
      },
      "execution_count": null,
      "outputs": [
        {
          "output_type": "stream",
          "name": "stdout",
          "text": [
            "['e', 'o']\n",
            "2\n"
          ]
        }
      ]
    },
    {
      "cell_type": "code",
      "source": [
        "my_list = [vowels, print]\n",
        "\n",
        "for func in my_list:\n",
        "  print(func(\"Hello\"))"
      ],
      "metadata": {
        "colab": {
          "base_uri": "https://localhost:8080/"
        },
        "id": "zDj9Fl__Bqm-",
        "outputId": "240f0a79-8d59-4ad1-8ded-adeb4119f03c"
      },
      "execution_count": null,
      "outputs": [
        {
          "output_type": "stream",
          "name": "stdout",
          "text": [
            "(['e', 'o'], 2)\n",
            "Hello\n",
            "None\n"
          ]
        }
      ]
    },
    {
      "cell_type": "code",
      "source": [
        "var = vowels\n",
        "print(var(\"Hello\"))"
      ],
      "metadata": {
        "colab": {
          "base_uri": "https://localhost:8080/"
        },
        "id": "yZ7JttwYDOW5",
        "outputId": "e5ce5f57-ced3-461c-8fc5-61e0e4adabd3"
      },
      "execution_count": null,
      "outputs": [
        {
          "output_type": "stream",
          "name": "stdout",
          "text": [
            "('eo', 2)\n"
          ]
        }
      ]
    },
    {
      "cell_type": "code",
      "source": [
        "def vowels(text):\n",
        "  vowels_list = \"aeiouAEIOU\"\n",
        "  # retained_vowels = []\n",
        "  vowel = 0\n",
        "  for char in text:\n",
        "    if char in vowels_list:\n",
        "      # if char not in retained_vowels:\n",
        "        vowel += 1\n",
        "        # retained_vowels.append(char)\n",
        "\n",
        "  return vowel\n",
        "\n",
        "print(\"No of vowels:\",vowels(\"Hello\"))\n"
      ],
      "metadata": {
        "colab": {
          "base_uri": "https://localhost:8080/"
        },
        "id": "uCSUf1X0FDwp",
        "outputId": "d1ff11c4-650a-4441-da8d-710659bfbaba"
      },
      "execution_count": null,
      "outputs": [
        {
          "output_type": "stream",
          "name": "stdout",
          "text": [
            "No of vowels: 2\n"
          ]
        }
      ]
    },
    {
      "cell_type": "markdown",
      "source": [
        "map()"
      ],
      "metadata": {
        "id": "aclW5l_kFkAt"
      }
    },
    {
      "cell_type": "markdown",
      "source": [
        "The map () function returns a map object(which is an iterator) of the results after applying the given function to each item of a given iterable (list, tuple, etc.).\n",
        "\n",
        "Syntax: map(fun, iter)\n",
        "\n",
        "Parameters:\n",
        "\n",
        "fun: It is a function to which map passes each element of given iterable.\n",
        "iter:  iterable object to be mapped."
      ],
      "metadata": {
        "id": "l54d67Z4ypsu"
      }
    },
    {
      "cell_type": "code",
      "source": [
        "def myfunc(a):\n",
        "  return len(a)\n",
        "\n",
        "x= map(myfunc, ('apple','banana', 'cherry'))\n",
        "\n",
        "print(x)\n",
        "print(list(x))"
      ],
      "metadata": {
        "colab": {
          "base_uri": "https://localhost:8080/"
        },
        "id": "FMJYLn-eFllk",
        "outputId": "a4a5d21a-d22e-4a1e-aa60-53b60cd6abe4"
      },
      "execution_count": null,
      "outputs": [
        {
          "output_type": "stream",
          "name": "stdout",
          "text": [
            "<map object at 0x7a3762810370>\n",
            "[5, 6, 6]\n"
          ]
        }
      ]
    },
    {
      "cell_type": "code",
      "source": [
        "def myfunc(a,b):\n",
        "  return a+b\n",
        "\n",
        "x = map(myfunc, ('apple','banana', 'cherry'),('orange','lemon','pineapple'))\n",
        "\n",
        "print(x)\n",
        "print(list(x))  # convert map into list for readi"
      ],
      "metadata": {
        "colab": {
          "base_uri": "https://localhost:8080/"
        },
        "id": "ryHbXpH1GQUl",
        "outputId": "83346dbf-b08a-4c85-fefa-dec92e4711ed"
      },
      "execution_count": null,
      "outputs": [
        {
          "output_type": "stream",
          "name": "stdout",
          "text": [
            "<map object at 0x7a3762876a70>\n",
            "['appleorange', 'bananalemon', 'cherrypineapple']\n"
          ]
        }
      ]
    },
    {
      "cell_type": "markdown",
      "source": [
        "##Day 08\n"
      ],
      "metadata": {
        "id": "dGwe1xXxvRSA"
      }
    },
    {
      "cell_type": "markdown",
      "source": [
        "Syntax: filter(function, sequence)\n",
        "\n",
        "Parameters:\n",
        "\n",
        "function: function that tests if each element of a sequence is true or not.\n",
        "sequence: sequence which needs to be filtered, it can be sets, lists, tuples, or containers of any iterators."
      ],
      "metadata": {
        "id": "_WEVSel0ybGG"
      }
    },
    {
      "cell_type": "code",
      "source": [
        "# Filter Function\n",
        "# Filter the array, return a new array with only the values equal to or above 18\n",
        "ages = [5,12,17,18,24,32]\n",
        "\n",
        "def myFunc(x):\n",
        "  if x<18:\n",
        "    return False\n",
        "  else:\n",
        "    return True\n",
        "\n",
        "adults = filter(myFunc, ages)\n",
        "\n",
        "for x in adults:\n",
        "  print(x)"
      ],
      "metadata": {
        "colab": {
          "base_uri": "https://localhost:8080/"
        },
        "id": "Ger2CZwZvUbp",
        "outputId": "4ea2242e-977e-4d78-dd1d-4a3beb38e677"
      },
      "execution_count": null,
      "outputs": [
        {
          "output_type": "stream",
          "name": "stdout",
          "text": [
            "18\n",
            "24\n",
            "32\n"
          ]
        }
      ]
    },
    {
      "cell_type": "markdown",
      "source": [
        "Reduce() Function\n"
      ],
      "metadata": {
        "id": "id8vEO9UwlyG"
      }
    },
    {
      "cell_type": "markdown",
      "source": [
        "Syntax: reduce(func, iterable[, initial])\n",
        "\n",
        "Parameters:\n",
        "\n",
        "fun: It is a function to execute on each element of the iterable object.\n",
        "iter: It is iterable to be reduced"
      ],
      "metadata": {
        "id": "yzx_cg23yhFt"
      }
    },
    {
      "cell_type": "code",
      "source": [
        "from functools import reduce\n",
        "def sum(a,b):\n",
        "  print(f\"a={a} and b={b}, {a}+{b}={a+b}\")\n",
        "  return a+b\n",
        "\n",
        "result = reduce(sum, [1,2,3,4])\n",
        "print(result)"
      ],
      "metadata": {
        "colab": {
          "base_uri": "https://localhost:8080/"
        },
        "id": "OJ3rzabKwk-v",
        "outputId": "598f437f-4ca0-47ed-e480-d432e1b14c1d"
      },
      "execution_count": null,
      "outputs": [
        {
          "output_type": "stream",
          "name": "stdout",
          "text": [
            "a=1 and b=2, 1+2=3\n",
            "a=3 and b=3, 3+3=6\n",
            "a=6 and b=4, 6+4=10\n",
            "10\n"
          ]
        }
      ]
    },
    {
      "cell_type": "markdown",
      "source": [],
      "metadata": {
        "id": "cFdM7o9Syv8k"
      }
    },
    {
      "cell_type": "code",
      "source": [
        "s = \"FET\"\n",
        "a = iter(s)\n",
        "print(s)\n",
        "print(next(a))\n",
        "print(next(a))\n",
        "print(next(a))\n",
        "# print(next(a))   #Stop iteration"
      ],
      "metadata": {
        "colab": {
          "base_uri": "https://localhost:8080/"
        },
        "id": "nvB7NTPFyQTd",
        "outputId": "ca910678-c11b-4127-e7c2-a89fa55336e7"
      },
      "execution_count": null,
      "outputs": [
        {
          "output_type": "stream",
          "name": "stdout",
          "text": [
            "FET\n",
            "F\n",
            "E\n",
            "T\n"
          ]
        }
      ]
    },
    {
      "cell_type": "markdown",
      "source": [
        "*   Class is a logical entity and acts as a blueprint of similar kind of\n",
        "objects.\n",
        "*   objects are real or time entity which have state ,identity and behaviour.\n",
        "*   Encapsulation is the process by which data and its related function are bound together into a single unit called class.\n",
        "\n"
      ],
      "metadata": {
        "id": "oh_ezH590bE7"
      }
    },
    {
      "cell_type": "code",
      "source": [
        "class get_odds:\n",
        "  def __init__(self, max):\n",
        "    self.n=3\n",
        "    self.max=max\n",
        "\n",
        "  def __iter__(self):\n",
        "    return self\n",
        "\n",
        "  def __next__(self):\n",
        "    if self.n <= self.max:\n",
        "      result = self.n\n",
        "      self.n += 2\n",
        "      return result\n",
        "    else:\n",
        "      raise StopIteration\n",
        "\n",
        "numbers = get_odds(10)\n",
        "# print(next(numbers))\n",
        "# print(next(numbers))\n",
        "# print(next(numbers))\n",
        "# print(next(numbers))\n",
        "# # print(next(numbers))\n",
        "\n",
        "for i in numbers:\n",
        "  print(i)"
      ],
      "metadata": {
        "colab": {
          "base_uri": "https://localhost:8080/"
        },
        "id": "KsXx4Tcuzzif",
        "outputId": "8f48ec75-c349-4744-eba1-d51909bbadda"
      },
      "execution_count": null,
      "outputs": [
        {
          "output_type": "stream",
          "name": "stdout",
          "text": [
            "3\n",
            "5\n",
            "7\n",
            "9\n"
          ]
        }
      ]
    },
    {
      "cell_type": "code",
      "source": [
        "class PowTwo:\n",
        "\n",
        "  def __init__(self, max = 0):\n",
        "    self.max = max\n",
        "\n",
        "  def __iter__(self):\n",
        "    self.n=0\n",
        "    return self\n",
        "\n",
        "  def __next__(self):\n",
        "    if self.n <= self.max:\n",
        "      result = 2 ** self.n\n",
        "      self.n += 1\n",
        "      return result\n",
        "    else:\n",
        "      raise StopIteration\n",
        "\n",
        "numbers  = PowTwo(3)\n",
        "i = iter(numbers)\n",
        "print(next(i))\n",
        "print(next(i))\n",
        "print(next(i))\n",
        "print(next(i))\n",
        "# print(next(i))   # raises stopiteration"
      ],
      "metadata": {
        "colab": {
          "base_uri": "https://localhost:8080/"
        },
        "id": "HOMGDUxn1ECT",
        "outputId": "f6707dec-1645-4aff-e2e6-e19e0414e7ed"
      },
      "execution_count": null,
      "outputs": [
        {
          "output_type": "stream",
          "name": "stdout",
          "text": [
            "1\n",
            "2\n",
            "4\n",
            "8\n"
          ]
        }
      ]
    },
    {
      "cell_type": "markdown",
      "source": [
        "## Day 10\n"
      ],
      "metadata": {
        "id": "AP5xsqaK3n_l"
      }
    },
    {
      "cell_type": "markdown",
      "source": [
        "Generators in python\n",
        "\n",
        "A generator function is a special type of function that returns an iterator object. Instead of using return to send back a single value, generator functions use yield to produce a series of results over time. This allows the function to generate values and pause its execution after each yield, maintaining its state between iterations."
      ],
      "metadata": {
        "id": "URq6iZPL3rWd"
      }
    },
    {
      "cell_type": "code",
      "source": [
        "def generator_name(arg):\n"
      ],
      "metadata": {
        "id": "2QdSZBKl38IV"
      },
      "execution_count": null,
      "outputs": []
    },
    {
      "cell_type": "code",
      "source": [
        "def mygenerator():\n",
        "  print(\"First item\")\n",
        "  yield 10\n",
        "\n",
        "  print(\"Second item\")\n",
        "  yield 20\n",
        "\n",
        "  print(\"Third item\")\n",
        "  yield 30\n",
        "\n",
        "# for item in mygenerator():\n",
        "#   print(item)\n",
        "\n",
        "s = mygenerator()\n",
        "print(next(s))\n",
        "print(next(s))\n",
        "print(next(s))"
      ],
      "metadata": {
        "colab": {
          "base_uri": "https://localhost:8080/"
        },
        "id": "NqKb8ENL35VU",
        "outputId": "16d20970-9f73-4dd4-dedf-ead78fee60da"
      },
      "execution_count": null,
      "outputs": [
        {
          "output_type": "stream",
          "name": "stdout",
          "text": [
            "First item\n",
            "10\n",
            "Second item\n",
            "20\n",
            "Third item\n",
            "30\n"
          ]
        }
      ]
    },
    {
      "cell_type": "code",
      "source": [
        "# Design a custom generator to like range function eg: my_range(5)\n",
        "\n",
        "def my_range(n):\n",
        "  i = 0\n",
        "  while i<n:\n",
        "    yield i\n",
        "    i+= 1\n",
        "for i in my_range(5):\n",
        "  print(i)"
      ],
      "metadata": {
        "colab": {
          "base_uri": "https://localhost:8080/"
        },
        "id": "nWAjT8yd5gIp",
        "outputId": "2e52e4a7-e472-4c53-ebd4-9c86bee69f27"
      },
      "execution_count": null,
      "outputs": [
        {
          "output_type": "stream",
          "name": "stdout",
          "text": [
            "0\n",
            "1\n",
            "2\n",
            "3\n",
            "4\n"
          ]
        }
      ]
    },
    {
      "cell_type": "code",
      "source": [
        "def my_func(ini,max):\n",
        "  i = ini\n",
        "  while i < max:\n",
        "    yield i\n",
        "    i+=1\n",
        "for i in my_func(1,6):\n",
        "  print(i)"
      ],
      "metadata": {
        "colab": {
          "base_uri": "https://localhost:8080/"
        },
        "id": "uBqi2psW7Gz8",
        "outputId": "ad981f15-24f1-420a-bdcd-31fc6faaf61b"
      },
      "execution_count": null,
      "outputs": [
        {
          "output_type": "stream",
          "name": "stdout",
          "text": [
            "1\n",
            "2\n",
            "3\n",
            "4\n",
            "5\n"
          ]
        }
      ]
    },
    {
      "cell_type": "code",
      "source": [
        "def my_range(ini=0,max=0):\n",
        "  i = ini\n",
        "  while i <max:\n",
        "    yield i\n",
        "    i+=1\n",
        "for i in range(10):\n",
        "  print(i)"
      ],
      "metadata": {
        "colab": {
          "base_uri": "https://localhost:8080/"
        },
        "id": "xv_uFlBM78IJ",
        "outputId": "98ab9846-a932-4924-e2e9-9e951c05b3ae"
      },
      "execution_count": null,
      "outputs": [
        {
          "output_type": "stream",
          "name": "stdout",
          "text": [
            "0\n",
            "1\n",
            "2\n",
            "3\n",
            "4\n",
            "5\n",
            "6\n",
            "7\n",
            "8\n",
            "9\n"
          ]
        }
      ]
    },
    {
      "cell_type": "code",
      "source": [
        "def my_func(ini=0, max=0, jump=1):\n",
        "  i = ini\n",
        "  if max == 0:\n",
        "    max = ini\n",
        "    ini = 0\n",
        "    i = ini\n",
        "  while i < max:\n",
        "    yield i\n",
        "    i += jump\n",
        "\n",
        "for i in my_func(1, 10, 4):\n",
        "  print(i)\n",
        "\n",
        "for i in my_func(5):\n",
        "  print(i)"
      ],
      "metadata": {
        "colab": {
          "base_uri": "https://localhost:8080/"
        },
        "id": "9vdNuie49bF2",
        "outputId": "d0ddc444-a75a-4c16-e417-da81c78198f3"
      },
      "execution_count": null,
      "outputs": [
        {
          "output_type": "stream",
          "name": "stdout",
          "text": [
            "1\n",
            "5\n",
            "9\n",
            "0\n",
            "1\n",
            "2\n",
            "3\n",
            "4\n"
          ]
        }
      ]
    },
    {
      "cell_type": "code",
      "source": [
        "even_gen = (i for i in range(10) if i%2==0)\n",
        "print(even_gen)\n",
        "for i in even_gen:\n",
        "  print(i)"
      ],
      "metadata": {
        "colab": {
          "base_uri": "https://localhost:8080/"
        },
        "id": "T4ZZGZF8-WiL",
        "outputId": "190b8bd4-cf14-4f64-f041-659800406daf"
      },
      "execution_count": null,
      "outputs": [
        {
          "output_type": "stream",
          "name": "stdout",
          "text": [
            "<generator object <genexpr> at 0x7a10b5b68e10>\n",
            "0\n",
            "2\n",
            "4\n",
            "6\n",
            "8\n"
          ]
        }
      ]
    },
    {
      "cell_type": "code",
      "source": [
        "# Given a list [-20,-10,0,10,20], calculate the sum of squares which are less than or equal to 150\n",
        "\n",
        "gen_1 = (i**2 for i in [-20,-10,0,10,20]) #if i**2 <= 150)\n",
        "gen_2 = (i for i in gen_1 if i <= 150)\n",
        "print(sum(gen_2))\n"
      ],
      "metadata": {
        "colab": {
          "base_uri": "https://localhost:8080/"
        },
        "id": "Ca09H28I-q1i",
        "outputId": "99577f4c-9c2c-4651-c1de-943f5950b11d"
      },
      "execution_count": null,
      "outputs": [
        {
          "output_type": "stream",
          "name": "stdout",
          "text": [
            "200\n",
            "<generator object <genexpr> at 0x7a10b5b6bb90>\n"
          ]
        }
      ]
    },
    {
      "cell_type": "code",
      "source": [
        "sq = (x*x for x in range(1, 6))\n",
        "for i in sq:\n",
        "    print(i)"
      ],
      "metadata": {
        "id": "0NWlDkAI_4AI"
      },
      "execution_count": null,
      "outputs": []
    },
    {
      "cell_type": "code",
      "source": [
        "# create a custom generator to find the sum of the following series\n",
        "# SUM 1 + 1/2 + 1/3 + ......+ 1/n\n",
        "print(sum(1/i for i in range(1,11)))"
      ],
      "metadata": {
        "colab": {
          "base_uri": "https://localhost:8080/"
        },
        "id": "2LiqCjuvAEB9",
        "outputId": "be52c12a-8531-4a08-ce4e-6474987b7d6d"
      },
      "execution_count": null,
      "outputs": [
        {
          "output_type": "stream",
          "name": "stdout",
          "text": [
            "2.9289682539682538\n"
          ]
        }
      ]
    },
    {
      "cell_type": "markdown",
      "source": [
        "##Day 12"
      ],
      "metadata": {
        "id": "LwxqoV1jFwOw"
      }
    },
    {
      "cell_type": "code",
      "source": [
        "d = lambda x: x*2\n",
        "print(d(10))"
      ],
      "metadata": {
        "colab": {
          "base_uri": "https://localhost:8080/"
        },
        "id": "3e-u7G4bDUNf",
        "outputId": "4336a073-9d69-4181-f3a2-38bdc4e2aff6"
      },
      "execution_count": null,
      "outputs": [
        {
          "output_type": "stream",
          "name": "stdout",
          "text": [
            "20\n"
          ]
        }
      ]
    },
    {
      "cell_type": "code",
      "source": [
        "type(d)"
      ],
      "metadata": {
        "colab": {
          "base_uri": "https://localhost:8080/"
        },
        "id": "0t00u3P8Dn2F",
        "outputId": "74cb9d75-c1d0-4f48-bfee-6ef298243fa7"
      },
      "execution_count": null,
      "outputs": [
        {
          "output_type": "execute_result",
          "data": {
            "text/plain": [
              "function"
            ]
          },
          "metadata": {},
          "execution_count": 2
        }
      ]
    },
    {
      "cell_type": "code",
      "source": [
        "import dis\n",
        "dis.dis(d)"
      ],
      "metadata": {
        "colab": {
          "base_uri": "https://localhost:8080/"
        },
        "id": "dkYFD6WmEEac",
        "outputId": "cebbda2e-6cda-4807-c35b-423263808b14"
      },
      "execution_count": null,
      "outputs": [
        {
          "output_type": "stream",
          "name": "stdout",
          "text": [
            "  1           0 RESUME                   0\n",
            "              2 LOAD_FAST                0 (x)\n",
            "              4 LOAD_CONST               1 (2)\n",
            "              6 BINARY_OP                5 (*)\n",
            "             10 RETURN_VALUE\n"
          ]
        }
      ]
    },
    {
      "cell_type": "code",
      "source": [
        "(lambda  x: x*x)(5)"
      ],
      "metadata": {
        "colab": {
          "base_uri": "https://localhost:8080/"
        },
        "id": "rI5Lp_4KEZOz",
        "outputId": "2d6191ea-1c34-4388-def5-7df5d430d99b"
      },
      "execution_count": null,
      "outputs": [
        {
          "output_type": "execute_result",
          "data": {
            "text/plain": [
              "25"
            ]
          },
          "metadata": {},
          "execution_count": 3
        }
      ]
    },
    {
      "cell_type": "code",
      "source": [
        "high_order = lambda x, d: x*d(x)\n",
        "print(high_order(5, lambda x: x*x))"
      ],
      "metadata": {
        "colab": {
          "base_uri": "https://localhost:8080/"
        },
        "id": "lgLnDUxnEvJs",
        "outputId": "646396e6-119b-4c21-ecb0-0fa00f71e92f"
      },
      "execution_count": null,
      "outputs": [
        {
          "output_type": "stream",
          "name": "stdout",
          "text": [
            "125\n"
          ]
        }
      ]
    },
    {
      "cell_type": "code",
      "source": [
        "def func2(x):\n",
        "  return x*x\n",
        "def func1(x, func): # Corrected: pass the function object as a parameter\n",
        "  return x * func(x)\n",
        "\n",
        "print(func1(3, func2)) # Corrected: pass the function object 'func2'\n",
        "print(func2(4))"
      ],
      "metadata": {
        "colab": {
          "base_uri": "https://localhost:8080/"
        },
        "id": "5albD3QjFA1j",
        "outputId": "47da8217-1480-4dc1-b3ef-d372ba6be4b7"
      },
      "execution_count": null,
      "outputs": [
        {
          "output_type": "stream",
          "name": "stdout",
          "text": [
            "27\n",
            "16\n"
          ]
        }
      ]
    },
    {
      "cell_type": "code",
      "source": [
        "mylist = [2,3,4,5,23,323,13]\n",
        "list_new = list(filter(lambda x: x%2==0, mylist))\n",
        "print(list_new)"
      ],
      "metadata": {
        "colab": {
          "base_uri": "https://localhost:8080/"
        },
        "id": "juKAcG4sFrO7",
        "outputId": "0851b427-3982-4788-93cd-4887e2da18ad"
      },
      "execution_count": null,
      "outputs": [
        {
          "output_type": "stream",
          "name": "stdout",
          "text": [
            "[2, 4]\n"
          ]
        }
      ]
    },
    {
      "cell_type": "markdown",
      "source": [
        "Reduce function performs a repetitive operaation over the pairs of the elements in the list. Pass the lambda function adn the list as argument to reduce function."
      ],
      "metadata": {
        "id": "SgfSTs0gHNy0"
      }
    },
    {
      "cell_type": "code",
      "source": [
        "from functools import reduce\n",
        "mylist = [1,2,3,4,5,6,7,8,9]\n",
        "list_new = reduce(lambda x,y: x+y, mylist)\n",
        "print(list_new)"
      ],
      "metadata": {
        "colab": {
          "base_uri": "https://localhost:8080/"
        },
        "id": "NBG65ZxSGk3n",
        "outputId": "c6b7789a-f8da-4e8b-d85d-5f82dc02714c"
      },
      "execution_count": null,
      "outputs": [
        {
          "output_type": "stream",
          "name": "stdout",
          "text": [
            "45\n"
          ]
        }
      ]
    },
    {
      "cell_type": "markdown",
      "source": [
        "A recursive function is just like any other Python function except that it calls itself in its body. Let's see basic structure of recursive function:\n",
        "\n"
      ],
      "metadata": {
        "id": "EanpiTP6H8uC"
      }
    },
    {
      "cell_type": "code",
      "source": [
        "def recursive_function(parameters):\n",
        "    if base_case_condition:\n",
        "        return base_result\n",
        "    else:\n",
        "        return recursive_function(modified_parameters)\n",
        "\n"
      ],
      "metadata": {
        "id": "N2UlpeNPJEXw"
      },
      "execution_count": null,
      "outputs": []
    },
    {
      "cell_type": "markdown",
      "source": [
        "Recursive function contains two key parts:\n",
        "\n",
        "Base Case: The stopping condition that prevents infinite recursion.\n",
        "Recursive Case: The part of the function where it calls itself with modified parameters."
      ],
      "metadata": {
        "id": "XJqdmsBEH76L"
      }
    },
    {
      "cell_type": "code",
      "source": [
        "def Print_1_to_n(n):\n",
        "  if n == 0: # Base Case\n",
        "    return\n",
        "  Print_1_to_n(n-1) # Recursive step: call with n-1\n",
        "  print(n) # Print after the recursive call to print in ascending order\n",
        "\n",
        "Print_1_to_n(10)"
      ],
      "metadata": {
        "colab": {
          "base_uri": "https://localhost:8080/"
        },
        "id": "YYdT4gGOJN0n",
        "outputId": "bd6a467b-ddc6-43aa-e66c-cc834ba059b2"
      },
      "execution_count": null,
      "outputs": [
        {
          "output_type": "stream",
          "name": "stdout",
          "text": [
            "1\n",
            "2\n",
            "3\n",
            "4\n",
            "5\n",
            "6\n",
            "7\n",
            "8\n",
            "9\n",
            "10\n"
          ]
        }
      ]
    },
    {
      "cell_type": "code",
      "source": [
        "def print_n(s,n):\n",
        "  if n ==0:       #base case\n",
        "    return\n",
        "\n",
        "  print_n(s,n-1)      #hypothesis\n",
        "  print(s)            #induction\n",
        "\n",
        "print(print_n(\"Hello\",4))"
      ],
      "metadata": {
        "colab": {
          "base_uri": "https://localhost:8080/"
        },
        "id": "XvTrQDb2Kc6L",
        "outputId": "e79f314c-944e-4143-fb18-133342461a1c"
      },
      "execution_count": null,
      "outputs": [
        {
          "output_type": "stream",
          "name": "stdout",
          "text": [
            "Hello\n",
            "Hello\n",
            "Hello\n",
            "Hello\n",
            "None\n"
          ]
        }
      ]
    },
    {
      "cell_type": "code",
      "source": [
        "def Print_n_to_1(n):\n",
        "  if n == 0:\n",
        "    return\n",
        "  print(n)\n",
        "  Print_n_to_1(n-1)\n",
        "\n",
        "Print_n_to_1(10)\n"
      ],
      "metadata": {
        "colab": {
          "base_uri": "https://localhost:8080/"
        },
        "id": "Y8r_FywRLFp7",
        "outputId": "5d8e7e71-27bd-40a2-c51f-7bc3479fdf17"
      },
      "execution_count": null,
      "outputs": [
        {
          "output_type": "stream",
          "name": "stdout",
          "text": [
            "10\n",
            "9\n",
            "8\n",
            "7\n",
            "6\n",
            "5\n",
            "4\n",
            "3\n",
            "2\n",
            "1\n"
          ]
        }
      ]
    },
    {
      "cell_type": "code",
      "source": [
        "def factorial(n):\n",
        "    if n == 0:  # Base case\n",
        "        return 1\n",
        "    else:       # Recursive case\n",
        "        return n * factorial(n - 1)\n",
        "\n",
        "print(factorial(5))"
      ],
      "metadata": {
        "colab": {
          "base_uri": "https://localhost:8080/"
        },
        "id": "2mhLOKiWKbG9",
        "outputId": "f54e26c7-b62a-4b50-a838-4ef69629c18d"
      },
      "execution_count": null,
      "outputs": [
        {
          "output_type": "stream",
          "name": "stdout",
          "text": [
            "120\n"
          ]
        }
      ]
    },
    {
      "cell_type": "code",
      "source": [
        "def factorial(n):\n",
        "    if n == 0:  # Base case\n",
        "        return 1\n",
        "    small_output = factorial(n-1)\n",
        "\n",
        "    return n*small_output\n",
        "\n",
        "factorial(12)"
      ],
      "metadata": {
        "colab": {
          "base_uri": "https://localhost:8080/"
        },
        "id": "yfHpvNWiMOEY",
        "outputId": "edbecd76-a435-40cf-b1fc-9ea170957b03"
      },
      "execution_count": null,
      "outputs": [
        {
          "output_type": "execute_result",
          "data": {
            "text/plain": [
              "479001600"
            ]
          },
          "metadata": {},
          "execution_count": 28
        }
      ]
    },
    {
      "cell_type": "code",
      "source": [
        "def factorial(n):\n",
        "  return 1 if n <= 1 else n * factorial(n-1)\n",
        "\n",
        "print(factorial(8))"
      ],
      "metadata": {
        "colab": {
          "base_uri": "https://localhost:8080/"
        },
        "id": "RiIpHAxKMhP5",
        "outputId": "5f3a2794-dbdc-4866-da59-06c361bd3466"
      },
      "execution_count": null,
      "outputs": [
        {
          "output_type": "stream",
          "name": "stdout",
          "text": [
            "40320\n"
          ]
        }
      ]
    },
    {
      "cell_type": "code",
      "source": [
        "#given a list return if it is sorted else return false\n",
        "\n",
        "def sorted_list(n:list):\n",
        "  if len(n) == 0 or len(n) ==1:\n",
        "    return True\n",
        "  else:\n",
        "    r"
      ],
      "metadata": {
        "id": "sb2bPTJiNCZW"
      },
      "execution_count": null,
      "outputs": []
    },
    {
      "cell_type": "code",
      "source": [
        "# Function can be treated as obejct and can be stored in a variable"
      ],
      "metadata": {
        "id": "2zVilYvEHCxq"
      },
      "execution_count": null,
      "outputs": []
    },
    {
      "cell_type": "code",
      "source": [
        "def shout(text):\n",
        "  return text.upper()\n",
        "\n",
        "def wishper(text):\n",
        "  return text.lower()"
      ],
      "metadata": {
        "id": "ARtOjYZVHNCp"
      },
      "execution_count": null,
      "outputs": []
    },
    {
      "cell_type": "code",
      "source": [
        "def create_adder(x):\n",
        "  def adder(y):\n",
        "    return x + y\n",
        "  return adder\n",
        "\n",
        "add_15 = create_adder(15)\n",
        "print(add_15(10))"
      ],
      "metadata": {
        "colab": {
          "base_uri": "https://localhost:8080/"
        },
        "id": "nx9K7CEfHmG4",
        "outputId": "66cb59d0-0ec4-44a4-8684-e334f3eec1dc"
      },
      "execution_count": 3,
      "outputs": [
        {
          "output_type": "stream",
          "name": "stdout",
          "text": [
            "25\n"
          ]
        }
      ]
    },
    {
      "cell_type": "code",
      "source": [
        "def parent():\n",
        "  print(\"Printing from the parent() function\")\n",
        "\n",
        "  def first_child():\n",
        "    print(\"Printing from the first_child() function\")\n",
        "\n",
        "  def second_child():\n",
        "    print(\"Printing from the second_child() function\")\n",
        "\n",
        "  second_child(1)\n",
        "  first_child(2)"
      ],
      "metadata": {
        "id": "Prjr1MfSIfsu"
      },
      "execution_count": 7,
      "outputs": []
    },
    {
      "cell_type": "code",
      "source": [
        "def parent(num):\n",
        "  def first_child():\n",
        "    return \"Hi, I am Emma\"\n",
        "\n",
        "  def second_child():\n",
        "    return \"Call me Liam\"\n",
        "\n",
        "  if num == 1:\n",
        "    return first_child\n",
        "  else:\n",
        "    return second_child\n",
        "\n",
        "first = parent(1)"
      ],
      "metadata": {
        "id": "xwC_b67SI4CV"
      },
      "execution_count": 8,
      "outputs": []
    }
  ]
}